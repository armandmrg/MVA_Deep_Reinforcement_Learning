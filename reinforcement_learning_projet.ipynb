{
 "cells": [
  {
   "cell_type": "markdown",
   "metadata": {},
   "source": [
    "**You may need to install [OpenCV](https://pypi.python.org/pypi/opencv-python) and [scikit-video](http://www.scikit-video.org/stable/).**"
   ]
  },
  {
   "cell_type": "code",
   "execution_count": 20,
   "metadata": {},
   "outputs": [],
   "source": [
    "import keras\n",
    "import numpy as np\n",
    "import io\n",
    "import base64\n",
    "from IPython.display import HTML\n",
    "import cv2\n",
    "import json\n",
    "\n",
    "from keras.models import Sequential,model_from_json\n",
    "from keras.layers.core import Dense\n",
    "from keras.optimizers import sgd\n",
    "from keras.layers import Conv2D, MaxPooling2D, Activation, AveragePooling2D,Reshape,BatchNormalization,Flatten\n",
    "import skvideo\n",
    "skvideo.setFFmpegPath(\"C:/FFmpeg/bin\")\n",
    "import skvideo.io"
   ]
  },
  {
   "cell_type": "markdown",
   "metadata": {},
   "source": [
    "# MiniProject on Deep Reinforcement Learning"
   ]
  },
  {
   "cell_type": "markdown",
   "metadata": {},
   "source": [
    "__Notations__: $E_p$ is the expectation under probability $p$. Please justify each of your answer and widely comment your code."
   ]
  },
  {
   "cell_type": "markdown",
   "metadata": {},
   "source": [
    "# Context"
   ]
  },
  {
   "cell_type": "markdown",
   "metadata": {},
   "source": [
    "In a reinforcement learning algorithm, we modelize each step $t$ as an action $a_t$ obtained from a state $s_t$, i.e. $\\{(a_{t},s_{t})_{t\\leq T}\\}$ having the Markov property. We consider a discount factor $\\gamma \\in [0,1]$ that ensures convergence. The goal is to find among all the policies $\\pi$, one that maximizes the expected reward:\n",
    "\n",
    "\\begin{equation*}\n",
    "R(\\pi)=\\sum_{t\\leq T}E_{p^{\\pi}}[\\gamma^t r(s_{t},a_{t})] \\> ,\n",
    "\\end{equation*}\n",
    "\n",
    "where: \n",
    "\\begin{equation*}p^{\\pi}(a_{0},a_{1},s_{1},...,a_{T},s_{T})=p(a_{0})\\prod_{t=1}^{T}\\pi(a_{t}|s_{t})p(s_{t+1}|s_{t},a_{t}) \\> .\n",
    "\\end{equation*}\n",
    "\n",
    "We note the $Q$-function:\n",
    "\n",
    "\\begin{equation*}Q^\\pi(s,a)=E_{p^{\\pi}}[\\sum_{t\\leq T}\\gamma^{t}r(s_{t},a_{t})|s_{0}=s,a_{0}=a] \\> .\n",
    "\\end{equation*}\n",
    "\n",
    "Thus, the optimal Q function is:\n",
    "\\begin{equation*}\n",
    "Q^*(s,a)=\\max_{\\pi}Q^\\pi(s,a) \\> .\n",
    "\\end{equation*}\n",
    "\n",
    "In this project, we will apply the deep reinforcement learning techniques to a simple game: an agent will have to learn from scratch a policy that will permit it maximizing a reward."
   ]
  },
  {
   "cell_type": "markdown",
   "metadata": {},
   "source": [
    "## The environment, the agent and the game"
   ]
  },
  {
   "cell_type": "markdown",
   "metadata": {},
   "source": [
    "### The environment"
   ]
  },
  {
   "cell_type": "markdown",
   "metadata": {},
   "source": [
    "```Environment``` is an abstract class that represents the states, rewards, and actions to obtain the new state."
   ]
  },
  {
   "cell_type": "code",
   "execution_count": 21,
   "metadata": {},
   "outputs": [],
   "source": [
    "class Environment(object):\n",
    "    def __init__(self):\n",
    "        pass\n",
    "\n",
    "    def act(self, act):\n",
    "        \"\"\"\n",
    "        One can act on the environment and obtain its reaction:\n",
    "        - the new state\n",
    "        - the reward of the new state\n",
    "        - should we continue the game?\n",
    "\n",
    "        :return: state, reward, game_over\n",
    "        \"\"\"\n",
    "        pass\n",
    "\n",
    "\n",
    "    def reset(self):\n",
    "        \"\"\"\n",
    "        Reinitialize the environment to a random state and returns\n",
    "        the original state\n",
    "\n",
    "        :return: state\n",
    "        \"\"\"\n",
    "        pass\n",
    "    \n",
    "    def draw(self):\n",
    "        \"\"\"\n",
    "        Visualize in the console or graphically the current state\n",
    "        \"\"\"\n",
    "        pass"
   ]
  },
  {
   "cell_type": "markdown",
   "metadata": {},
   "source": [
    "The method ```act``` allows to act on the environment at a given state $s_t$ (stored internally), via action $a_t$. The method will return the new state $s_{t+1}$, the reward $r(s_{t},a_{t})$ and determines if $t\\leq T$ (*game_over*).\n",
    "\n",
    "The method ```reset``` simply reinitializes the environment to a random state $s_0$.\n",
    "\n",
    "The method ```draw``` displays the current state $s_t$ (this is useful to check the behavior of the Agent).\n",
    "\n",
    "We modelize $s_t$ as a tensor, while $a_t$ is an integer."
   ]
  },
  {
   "cell_type": "markdown",
   "metadata": {},
   "source": [
    "### The Agent"
   ]
  },
  {
   "cell_type": "markdown",
   "metadata": {},
   "source": [
    "The goal of the ```Agent``` is to interact with the ```Environment``` by proposing actions $a_t$ obtained from a given state $s_t$ to attempt to maximize its __reward__ $r(s_t,a_t)$. We propose the following abstract class:"
   ]
  },
  {
   "cell_type": "code",
   "execution_count": 22,
   "metadata": {},
   "outputs": [],
   "source": [
    "class Agent(object):\n",
    "    def __init__(self, epsilon=0.1, n_action=4):\n",
    "        self.epsilon = epsilon\n",
    "        self.n_action = n_action\n",
    "    \n",
    "    def set_epsilon(self,e):\n",
    "        self.epsilon = e\n",
    "\n",
    "    def act(self,s,train=True):\n",
    "        \"\"\" This function should return the next action to do:\n",
    "        an integer between 0 and 4 (not included) with a random exploration of epsilon\"\"\"\n",
    "        if train:\n",
    "            if np.random.rand() <= self.epsilon:\n",
    "                a = np.random.randint(0, self.n_action, size=1)[0]\n",
    "            else:\n",
    "                a = self.learned_act(s)\n",
    "        else: # in some cases, this can improve the performance.. remove it if poor performances\n",
    "            a = self.learned_act(s)\n",
    "\n",
    "        return a\n",
    "\n",
    "    def learned_act(self,s):\n",
    "        \"\"\" Act via the policy of the agent, from a given state s\n",
    "        it proposes an action a\"\"\"\n",
    "        pass\n",
    "\n",
    "    def reinforce(self, s, n_s, a, r, game_over_):\n",
    "        \"\"\" This function is the core of the learning algorithm. \n",
    "        It takes as an input the current state s_, the next state n_s_\n",
    "        the action a_ used to move from s_ to n_s_ and the reward r_.\n",
    "        \n",
    "        Its goal is to learn a policy.\n",
    "        \"\"\"\n",
    "        pass\n",
    "\n",
    "    def save(self):\n",
    "        \"\"\" This function returns basic stats if applicable: the\n",
    "        loss and/or the model\"\"\"\n",
    "        pass\n",
    "\n",
    "    def load(self):\n",
    "        \"\"\" This function allows to restore a model\"\"\"\n",
    "        pass"
   ]
  },
  {
   "cell_type": "markdown",
   "metadata": {},
   "source": [
    "***\n",
    "__Question 1__:\n",
    "Explain the function act. Why is ```epsilon``` essential?"
   ]
  },
  {
   "cell_type": "markdown",
   "metadata": {},
   "source": [
    "The function act returns the next action that the agent will do. In epsilon*100% of the cases, this action is randomly chosen. In the other cases, the action is chosen according to the policy of the agent. So the epsilon parameter enables us to explore new,and possibly better, actions and not only choose the best actions discovered in the past. It controls the tradeoff between exploitation and exploration."
   ]
  },
  {
   "cell_type": "markdown",
   "metadata": {},
   "source": [
    "***\n",
    "### The Game"
   ]
  },
  {
   "cell_type": "markdown",
   "metadata": {},
   "source": [
    "The ```Agent``` and the ```Environment``` work in an interlaced way as in the following (take some time to understand this code as it is the core of the project)\n",
    "\n",
    "```python\n",
    "\n",
    "epoch = 300\n",
    "env = Environment()\n",
    "agent = Agent()\n",
    "\n",
    "\n",
    "# Number of won games\n",
    "score = 0\n",
    "loss = 0\n",
    "\n",
    "\n",
    "for e in range(epoch):\n",
    "    # At each epoch, we restart to a fresh game and get the initial state\n",
    "    state = env.reset()\n",
    "    # This assumes that the games will end\n",
    "    game_over = False\n",
    "\n",
    "    win = 0\n",
    "    lose = 0\n",
    "    \n",
    "    while not game_over:\n",
    "        # The agent performs an action\n",
    "        action = agent.act(state)\n",
    "\n",
    "        # Apply an action to the environment, get the next state, the reward\n",
    "        # and if the games end\n",
    "        prev_state = state\n",
    "        state, reward, game_over = env.act(action)\n",
    "\n",
    "        # Update the counters\n",
    "        if reward > 0:\n",
    "            win = win + reward\n",
    "        if reward < 0:\n",
    "            lose = lose -reward\n",
    "\n",
    "        # Apply the reinforcement strategy\n",
    "        loss = agent.reinforce(prev_state, state,  action, reward, game_over)\n",
    "\n",
    "    # Save as a mp4\n",
    "    if e % 10 == 0:\n",
    "        env.draw(e)\n",
    "\n",
    "    # Update stats\n",
    "    score += win-lose\n",
    "\n",
    "    print(\"Epoch {:03d}/{:03d} | Loss {:.4f} | Win/lose count {}/{} ({})\"\n",
    "          .format(e, epoch, loss, win, lose, win-lose))\n",
    "    agent.save()\n",
    "```"
   ]
  },
  {
   "cell_type": "markdown",
   "metadata": {},
   "source": [
    "# The game, *eat cheese*"
   ]
  },
  {
   "cell_type": "markdown",
   "metadata": {},
   "source": [
    "A rat runs on an island and tries to eat as much as possible. The island is subdivided into $N\\times N$ cells, in which there are cheese (+0.5) and poisonous cells (-1). The rat has a visibility of 2 cells (thus it can see $5^2$ cells). The rat is given a time $T$ to accumulate as much food as possible. It can perform 4 actions: going up, down, left, right. \n",
    "\n",
    "The goal is to code an agent to solve this task that will learn by trial and error. We propose the following environment:"
   ]
  },
  {
   "cell_type": "code",
   "execution_count": 23,
   "metadata": {},
   "outputs": [],
   "source": [
    "class Environment(object):\n",
    "    def __init__(self, grid_size=10, max_time=500, temperature=0.1):\n",
    "        grid_size = grid_size+4\n",
    "        self.grid_size = grid_size\n",
    "        self.max_time = max_time\n",
    "        self.temperature = temperature\n",
    "\n",
    "        #board on which one plays\n",
    "        self.board = np.zeros((grid_size,grid_size))\n",
    "        self.position = np.zeros((grid_size,grid_size))\n",
    "\n",
    "        # coordinate of the cat\n",
    "        self.x = 0\n",
    "        self.y = 1\n",
    "\n",
    "        # self time\n",
    "        self.t = 0\n",
    "\n",
    "        self.scale=16\n",
    "\n",
    "        self.to_draw = np.zeros((max_time+2, grid_size*self.scale, grid_size*self.scale, 3))\n",
    "\n",
    "\n",
    "    def draw(self,e):\n",
    "        skvideo.io.vwrite(str(e) + '.mp4', self.to_draw)\n",
    "\n",
    "    def get_frame(self,t):\n",
    "        b = np.zeros((self.grid_size,self.grid_size,3))+128\n",
    "        b[self.board>0,0] = 256\n",
    "        b[self.board < 0, 2] = 256\n",
    "        b[self.x,self.y,:]=256\n",
    "        b[-2:,:,:]=0\n",
    "        b[:,-2:,:]=0\n",
    "        b[:2,:,:]=0\n",
    "        b[:,:2,:]=0\n",
    "        \n",
    "        b =  cv2.resize(b, None, fx=self.scale, fy=self.scale, interpolation=cv2.INTER_NEAREST)\n",
    "\n",
    "        self.to_draw[t,:,:,:]=b\n",
    "\n",
    "\n",
    "    def act(self, action):\n",
    "        \"\"\"This function returns the new state, reward and decides if the\n",
    "        game ends.\"\"\"\n",
    "\n",
    "        self.get_frame(int(self.t))\n",
    "\n",
    "        self.position = np.zeros((self.grid_size, self.grid_size))\n",
    "\n",
    "        self.position[0:2,:]= -1\n",
    "        self.position[:,0:2] = -1\n",
    "        self.position[-2:, :] = -1\n",
    "        self.position[-2:, :] = -1\n",
    "\n",
    "        self.position[self.x, self.y] = 1\n",
    "        if action == 0:\n",
    "            if self.x == self.grid_size-3:\n",
    "                self.x = self.x-1\n",
    "            else:\n",
    "                self.x = self.x + 1\n",
    "        elif action == 1:\n",
    "            if self.x == 2:\n",
    "                self.x = self.x+1\n",
    "            else:\n",
    "                self.x = self.x-1\n",
    "        elif action == 2:\n",
    "            if self.y == self.grid_size - 3:\n",
    "                self.y = self.y - 1\n",
    "            else:\n",
    "                self.y = self.y + 1\n",
    "        elif action == 3:\n",
    "            if self.y == 2:\n",
    "                self.y = self.y + 1\n",
    "            else:\n",
    "                self.y = self.y - 1\n",
    "        else:\n",
    "            RuntimeError('Error: action not recognized')\n",
    "\n",
    "        self.t = self.t + 1\n",
    "        reward = self.board[self.x, self.y]\n",
    "        self.board[self.x, self.y] = 0\n",
    "        game_over = self.t > self.max_time\n",
    "        state = np.concatenate((self.board.reshape(self.grid_size, self.grid_size,1),\n",
    "                        self.position.reshape(self.grid_size, self.grid_size,1)),axis=2)\n",
    "        state = state[self.x-2:self.x+3,self.y-2:self.y+3,:]\n",
    "\n",
    "        return state, reward, game_over\n",
    "\n",
    "    def reset(self):\n",
    "        \"\"\"This function resets the game and returns the initial state\"\"\"\n",
    "\n",
    "        self.x = np.random.randint(3, self.grid_size-3, size=1)[0]\n",
    "        self.y = np.random.randint(3, self.grid_size-3, size=1)[0]\n",
    "\n",
    "\n",
    "        bonus = 0.5*np.random.binomial(1,self.temperature,size=self.grid_size**2)\n",
    "        bonus = bonus.reshape(self.grid_size,self.grid_size)\n",
    "\n",
    "        malus = -1.0*np.random.binomial(1,self.temperature,size=self.grid_size**2)\n",
    "        malus = malus.reshape(self.grid_size, self.grid_size)\n",
    "\n",
    "        self.to_draw = np.zeros((self.max_time+2, self.grid_size*self.scale, self.grid_size*self.scale, 3))\n",
    "\n",
    "\n",
    "        malus[bonus>0]=0\n",
    "\n",
    "        self.board = bonus + malus\n",
    "\n",
    "        self.position = np.zeros((self.grid_size, self.grid_size))\n",
    "        self.position[0:2,:]= -1\n",
    "        self.position[:,0:2] = -1\n",
    "        self.position[-2:, :] = -1\n",
    "        self.position[-2:, :] = -1\n",
    "        self.board[self.x,self.y] = 0\n",
    "        self.t = 0\n",
    "\n",
    "        state = np.concatenate((\n",
    "                               self.board.reshape(self.grid_size, self.grid_size,1),\n",
    "                        self.position.reshape(self.grid_size, self.grid_size,1)),axis=2)\n",
    "\n",
    "        state = state[self.x - 2:self.x + 3, self.y - 2:self.y + 3, :]\n",
    "        return state"
   ]
  },
  {
   "cell_type": "markdown",
   "metadata": {},
   "source": [
    "The following elements are important because they correspond to the hyper parameters for this project:"
   ]
  },
  {
   "cell_type": "code",
   "execution_count": 62,
   "metadata": {},
   "outputs": [],
   "source": [
    "# parameters\n",
    "size = 13\n",
    "T=200\n",
    "temperature=0.3\n",
    "epochs_train=12 # set small when debugging\n",
    "epochs_test=10 # set small when debugging\n",
    "\n",
    "# display videos\n",
    "def display_videos(name):\n",
    "    video = io.open(name, 'r+b').read()\n",
    "    encoded = base64.b64encode(video)\n",
    "    return '''<video alt=\"test\" controls>\n",
    "                <source src=\"data:video/mp4;base64,{0}\" type=\"video/mp4\" />\n",
    "             </video>'''.format(encoded.decode('ascii'))"
   ]
  },
  {
   "cell_type": "markdown",
   "metadata": {},
   "source": [
    "__Question 2__ Explain the use of the arrays ```position``` and ```board```."
   ]
  },
  {
   "cell_type": "markdown",
   "metadata": {},
   "source": [
    "The array position contains the actual position of the rat (1), the cells where he can't go (-1) and the cells where he could possibly go (0).<br>\n",
    "The array board contains the reward available on each cell of the grid: 0 if the cell is empty, 0.5 is there is some cheese, -1 if it is poisonous."
   ]
  },
  {
   "cell_type": "markdown",
   "metadata": {},
   "source": [
    "## Random Agent"
   ]
  },
  {
   "cell_type": "markdown",
   "metadata": {},
   "source": [
    "***\n",
    "__Question 3__ Implement a random Agent (only ```learned_act``` needs to be implemented):"
   ]
  },
  {
   "cell_type": "code",
   "execution_count": 25,
   "metadata": {},
   "outputs": [],
   "source": [
    "class RandomAgent(Agent):\n",
    "    def __init__(self):\n",
    "        super(RandomAgent, self).__init__()\n",
    "        pass\n",
    "\n",
    "    def learned_act(self, s):\n",
    "        return np.random.randint(self.n_action)"
   ]
  },
  {
   "cell_type": "markdown",
   "metadata": {},
   "source": [
    "***\n",
    "***\n",
    "__Question 4__ Visualize the game moves. You need to fill in the following function for the evaluation:"
   ]
  },
  {
   "cell_type": "code",
   "execution_count": 26,
   "metadata": {},
   "outputs": [],
   "source": [
    "def test(agent,env,epochs,prefix=''):\n",
    "    # Number of won games\n",
    "    score = 0\n",
    "        \n",
    "    for e in range(epochs):\n",
    "        \n",
    "        state = env.reset()\n",
    "        game_over = False\n",
    "        win = 0\n",
    "        lose = 0\n",
    "\n",
    "        while not game_over:\n",
    "            action = agent.act(state)\n",
    "            prev_state = state\n",
    "            state, reward, game_over = env.act(action)\n",
    "\n",
    "            # Update the counters\n",
    "            if reward > 0:\n",
    "                win = win + reward\n",
    "            if reward < 0:\n",
    "                lose = lose - reward\n",
    "                \n",
    "        # Save as a mp4\n",
    "        env.draw(prefix+str(e))\n",
    "\n",
    "        # Update stats\n",
    "        score = score + win-lose\n",
    "\n",
    "        print(\"Win/lose count {}/{}. Average score ({})\"\n",
    "              .format(win, lose, score/(1+e)))\n",
    "    print('Final score: '+str(score/epochs))"
   ]
  },
  {
   "cell_type": "code",
   "execution_count": 32,
   "metadata": {},
   "outputs": [
    {
     "name": "stdout",
     "output_type": "stream",
     "text": [
      "Win/lose count 11.0/16.0. Average score (-5.0)\n",
      "Win/lose count 15.0/23.0. Average score (-6.5)\n",
      "Win/lose count 8.0/14.0. Average score (-6.333333333333333)\n",
      "Win/lose count 8.5/10.0. Average score (-5.125)\n",
      "Win/lose count 10.0/14.0. Average score (-4.9)\n",
      "Win/lose count 9.0/16.0. Average score (-5.25)\n",
      "Win/lose count 6.5/10.0. Average score (-5.0)\n",
      "Win/lose count 11.5/8.0. Average score (-3.9375)\n",
      "Win/lose count 11.0/15.0. Average score (-3.9444444444444446)\n",
      "Win/lose count 11.5/18.0. Average score (-4.2)\n",
      "Win/lose count 10.0/12.0. Average score (-4.0)\n",
      "Win/lose count 7.0/6.0. Average score (-3.5833333333333335)\n",
      "Final score: -3.5833333333333335\n"
     ]
    },
    {
     "data": {
      "text/html": [
       "<video alt=\"test\" controls>\n",
       "                <source src=\"data:video/mp4;base64,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\" type=\"video/mp4\" />\n",
       "             </video>"
      ],
      "text/plain": [
       "<IPython.core.display.HTML object>"
      ]
     },
     "execution_count": 32,
     "metadata": {},
     "output_type": "execute_result"
    }
   ],
   "source": [
    "# Initialize the game\n",
    "env = Environment(grid_size=size, max_time=T,temperature=temperature)\n",
    "\n",
    "# Initialize the agent!\n",
    "agent = RandomAgent()\n",
    "\n",
    "test(agent,env,epochs_test,prefix='random')\n",
    "HTML(display_videos('random0.mp4'))"
   ]
  },
  {
   "cell_type": "markdown",
   "metadata": {},
   "source": [
    "***\n",
    "## DQN"
   ]
  },
  {
   "cell_type": "markdown",
   "metadata": {},
   "source": [
    "Let us assume here that $T=\\infty$.\n",
    "\n",
    "***\n",
    "__Question 5__ Let $\\pi$ be a policy, show that:\n",
    "\n",
    "\\begin{equation*}\n",
    "Q^{\\pi}(s,a)=E_{(s',a')\\sim p(.|s,a)}[r(s,a)+\\gamma Q^{\\pi}(s',a')]\n",
    "\\end{equation*}\n",
    "\n",
    "Then, show that for the optimal policy $\\pi^*$ (we assume its existence), the following holds: \n",
    "\n",
    "\\begin{equation*}\n",
    "Q^{*}(s,a)=E_{s'\\sim \\pi^*(.|s,a)}[r(s,a)+\\gamma\\max_{a'}Q^{*}(s',a')].\n",
    "\\end{equation*}\n",
    "Finally, deduce that a plausible objective is:\n",
    "\n",
    "\\begin{equation*}\n",
    "\\mathcal{L}(\\theta)=E_{s' \\sim \\pi^*(.|s,a)}\\Vert r+\\gamma\\max\\max_{a'}Q(s',a',\\theta)-Q(s,a,\\theta)\\Vert^{2}.\n",
    "\\end{equation*}\n",
    "\n",
    "\n"
   ]
  },
  {
   "cell_type": "markdown",
   "metadata": {},
   "source": [
    "<b>First part:</b>\n",
    "\\begin{align}\n",
    "Q^\\pi(s,a) &= E_{p^{\\pi}}(\\sum_{t \\ge 0}\\gamma^{t}r(s_{t},a_{t}) | s_{0}=s,a_{0}=a) \\\\\n",
    "&= E_{p^{\\pi}}(r(s_0,a_0) + \\gamma \\sum_{t \\ge 1}\\gamma^{t-1}r(s_{t},a_{t}) | s_{0}=s,a_{0}=a)\\\\\n",
    "&= E_{(s',a')\\sim p^\\pi(.|s,a)}(r(s, a) + \\gamma E_{p^{\\pi}} ( \\sum_{t \\ge 0}\\gamma^{t}r(s_{t-1},a_{t-1}) | s_1=s', a_1=a' ) | s_{0}=s,a_{0}=a) \\\\\n",
    "&= E_{(s',a')\\sim p^\\pi(.|s,a)}(r(s, a) + \\gamma Q^\\pi (s', a'))\n",
    "\\end{align}<br>\n",
    "<b>Second Part:</b><br>\n",
    "We assume the existence of the optimal policy $\\pi^*$; then the optimal Q function is:\n",
    "\\begin{align}\n",
    "Q^*(s,a) &= Q^{\\pi^*}(s,a) = E_{s' \\sim p(.|s,a)}(r(s, a) + \\gamma Q^{\\pi^*} (s', \\pi^*(s'))) \\\\\n",
    "&= E_{s' \\sim p(.|s,a)}(r(s, a) + \\gamma \\max_{a'} Q^{\\pi^*} (s', a')) \\\\\n",
    "&= r(s,a) + \\gamma \\max_{\\pi} \\sum(p(s_{t+1}=s' |s_t = s, a_t = a )Q^{\\pi}(s',a')\n",
    "\\end{align}<br>\n",
    "We want to exchange the sum and the maximum, we use the 2 following inequalities:<br><br>\n",
    "$$\\max_{\\pi} \\sum(p(s_{t+1}=s' |s_t = s, a_t = a )Q^{\\pi}(s',a') \\leq \\sum(p(s_{t+1}=s' |s_t = s, a_t = a ) \\max_{\\pi} Q^{\\pi}(s',a')$$\n",
    "$$\\max_{\\pi} \\sum(p(s_{t+1}=s' |s_t = s, a_t = a )Q^{\\pi}(s',a') \\geq \\sum(p(s_{t+1}=s' |s_t = s, a_t = a ) \\max_{\\pi} Q^{\\pi}(s',a')$$<br>\n",
    "The first one is trivial, to prove the second one we denote $\\hat{\\pi}(s',a') = \\arg\\max_{\\pi'} Q^{\\pi'}(s',a')$ and $ \\pi'$the policy that reproduces $\\hat{\\pi}(s',a')$ once in state $s'$ and performs action $a'$. We have:\n",
    "\n",
    "\\begin{align}\n",
    "\\sum(p(s_{t+1}=s' |s_t = s, a_t = a ) \\max_{\\pi} Q^{\\pi}(s',a') &= \\sum(p(s_{t+1}=s' |s_t = s, a_t = a ) Q^{\\hat{\\pi}(s', a')}(s',a') \\\\\n",
    "&= \\sum(p(s_{t+1}=s' |s_t = s, a_t = a ) Q^{\\pi'}(s',a')) \\\\\n",
    "&\\leq \\max_{\\pi} \\sum(p(s_{t+1}=s' |s_t = s, a_t = a )Q^{\\pi}(s',a')\n",
    "\\end{align}\n",
    "\n",
    "Now we can exchange the maximum and the sum to prove our equality:\n",
    "\\begin{align}\n",
    "Q^{*}(s,a) &= r(s,a) + \\gamma  \\sum(p(s_{t+1}=s' |s_t = s, a_t = a )\\max_{\\pi, a'} Q^{\\pi}(s',a') \\\\\n",
    "&= r(s,a) + \\gamma \\sum(p(s_{t+1}=s' |s_t = s, a_t = a )\\max_{a'}\\max_{\\pi} Q^{\\pi}(s',a') \\\\ \n",
    "&= r(s,a) + \\gamma \\sum(p(s_{t+1}=s' |s_t = s, a_t = a )\\max_{a'}Q^{*}(s',a') \\\\ \n",
    "&=E_{s'\\sim \\pi^*(.|s,a)}(r(s,a)+\\gamma\\max_{a'}Q^{*}(s',a')).\n",
    "\\end{align}\n",
    "\n",
    "<b>Part 3</b><br>\n",
    "The loss function\n",
    "\\begin{equation*}\n",
    "\\mathcal{L}(\\theta)=E_{s' \\sim \\pi^*(.|s,a)}\\Vert r+\\gamma\\max\\max_{a'}Q(s',a',\\theta)-Q(s,a,\\theta)\\Vert^{2}.\n",
    "\\end{equation*}\n",
    "corresponds to the norm our last equation.\n",
    "\n"
   ]
  },
  {
   "cell_type": "markdown",
   "metadata": {},
   "source": [
    "***\n",
    "The DQN-learning algorithm relies on these derivations to train the parameters $\\theta$ of a Deep Neural Network:\n",
    "\n",
    "1. At the state $s_t$, select the action $a_t$ with best reward using $Q_t$ and store the results;\n",
    "\n",
    "2. Obtain the new state $s_{t+1}$ from the environment $p$;\n",
    "\n",
    "3. Store $(s_t,a_t,s_{t+1})$;\n",
    "\n",
    "4. Obtain $Q_{t+1}$ by minimizing  $\\mathcal{L}$ from a recovered batch from the previously stored results.\n",
    "\n",
    "***\n",
    "__Question 6__ Implement the class ```Memory``` that stores moves (in a replay buffer) via ```remember``` and provides a ```random_access``` to these. Specify a maximum memory size to avoid side effects. You can for example use a ```list()``` and set by default ```max_memory=100```."
   ]
  },
  {
   "cell_type": "code",
   "execution_count": 33,
   "metadata": {},
   "outputs": [],
   "source": [
    "class Memory(object):\n",
    "    def __init__(self, max_memory=100):\n",
    "        self.max_memory = max_memory\n",
    "        self.memory = list()\n",
    "\n",
    "    def remember(self, m):\n",
    "        self.memory.append(m)\n",
    "        if len(self.memory)>self.max_memory:\n",
    "            del self.memory[0]\n",
    "    def random_access(self):\n",
    "        return self.memory[np.random.randint(len(self.memory))]"
   ]
  },
  {
   "cell_type": "markdown",
   "metadata": {},
   "source": [
    "***\n",
    "The pipeline we will use for training is given below:"
   ]
  },
  {
   "cell_type": "code",
   "execution_count": 34,
   "metadata": {},
   "outputs": [],
   "source": [
    "def train(agent,env,epoch,prefix=''):\n",
    "    # Number of won games\n",
    "    score = 0\n",
    "    loss = 0\n",
    "\n",
    "    for e in range(epoch):\n",
    "        # At each epoch, we restart to a fresh game and get the initial state\n",
    "        state = env.reset()\n",
    "        # This assumes that the games will terminate\n",
    "        game_over = False\n",
    "\n",
    "        win = 0\n",
    "        lose = 0\n",
    "\n",
    "        while not game_over:\n",
    "            # The agent performs an action\n",
    "            action = agent.act(state)\n",
    "\n",
    "            # Apply an action to the environment, get the next state, the reward\n",
    "            # and if the games end\n",
    "            prev_state = state\n",
    "            state, reward, game_over = env.act(action)\n",
    "\n",
    "            # Update the counters\n",
    "            if reward > 0:\n",
    "                win = win + reward\n",
    "            if reward < 0:\n",
    "                lose = lose -reward\n",
    "\n",
    "            # Apply the reinforcement strategy\n",
    "            loss = agent.reinforce(prev_state, state,  action, reward, game_over)\n",
    "\n",
    "        # Save as a mp4\n",
    "        if e % 10 == 0:\n",
    "            env.draw(prefix+str(e))\n",
    "\n",
    "        # Update stats\n",
    "        score += win-lose\n",
    "\n",
    "        print(\"Epoch {:03d}/{:03d} | Loss {:.4f} | Win/lose count {}/{} ({})\"\n",
    "              .format(e, epoch, loss, win, lose, win-lose))\n",
    "        agent.save(name_weights=prefix+'model.h5',name_model=prefix+'model.json')"
   ]
  },
  {
   "cell_type": "markdown",
   "metadata": {},
   "source": [
    "***\n",
    "__Question 7__ Implement the DQN training algorithm using a cascade of fully connected layers. You can use different learning rate, batch size or memory size parameters. In particular, the loss might oscillate while the player will start to win the games. You have to find a good criterium."
   ]
  },
  {
   "cell_type": "code",
   "execution_count": 35,
   "metadata": {},
   "outputs": [],
   "source": [
    "class DQN(Agent):\n",
    "    def __init__(self, grid_size,  epsilon = 0.1, memory_size=100, batch_size = 16,n_state=2):\n",
    "        super(DQN, self).__init__(epsilon = epsilon)\n",
    "\n",
    "        # Discount for Q learning\n",
    "        self.discount = 0.99\n",
    "        \n",
    "        self.grid_size = grid_size\n",
    "        \n",
    "        # number of state\n",
    "        self.n_state = n_state\n",
    "\n",
    "        # Memory\n",
    "        self.memory = Memory(memory_size)\n",
    "        \n",
    "        # Batch size when learning\n",
    "        self.batch_size = batch_size\n",
    "\n",
    "    def learned_act(self, s):\n",
    "        return np.argmax(self.model.predict(s[np.newaxis,:]))\n",
    "\n",
    "    def reinforce(self, s_, n_s_, a_, r_, game_over_):\n",
    "        # Two steps: first memorize the states, second learn from the pool\n",
    "\n",
    "        self.memory.remember([s_, n_s_, a_, r_, game_over_])\n",
    "        \n",
    "        input_states = np.zeros((self.batch_size, 5,5,self.n_state))\n",
    "        target_q = np.zeros((self.batch_size, 4))\n",
    "        \n",
    "        for i in range(self.batch_size):\n",
    "            s_, n_s_, a_, r_, game_over_ = self.memory.random_access()\n",
    "            \n",
    "            target_q[i] =self.model.predict(s_.reshape([1,s_.shape[0],s_.shape[1],s_.shape[2]]))[0]\n",
    "            # We compute the target with the optimality criterion (=> use a max)\n",
    "            if game_over_:\n",
    "                input_states[i] = s_\n",
    "                target_q[i,a_] = r_\n",
    "            else:\n",
    "                input_states[i] = s_\n",
    "                target_q[i,a_] = r_  + self.discount*max(self.model.predict(n_s_.reshape([1,s_.shape[0],s_.shape[1],s_.shape[2]]))[0])\n",
    "        # HINT: Clip the target to avoid exploiding gradients.. -- clipping is a bit tighter\n",
    "        target_q = np.clip(target_q, -3, 3)\n",
    "        return self.model.train_on_batch(input_states, target_q)\n",
    "\n",
    "    def save(self,name_weights='model.h5',name_model='model.json'):\n",
    "        self.model.save_weights(name_weights, overwrite=True)\n",
    "        with open(name_model, \"w\") as outfile:\n",
    "            json.dump(self.model.to_json(), outfile)\n",
    "            \n",
    "    def load(self,name_weights='model.h5',name_model='model.json'):\n",
    "        with open(name_model, \"r\") as jfile:\n",
    "            model = model_from_json(json.load(jfile))\n",
    "        model.load_weights(name_weights)\n",
    "        model.compile(\"sgd\", \"mse\")\n",
    "        self.model = model\n",
    "\n",
    "            \n",
    "class DQN_FC(DQN):\n",
    "    def __init__(self, *args, lr=0.1,**kwargs):\n",
    "        super(DQN_FC, self).__init__( *args,**kwargs)\n",
    "        \n",
    "        # NN Model\n",
    "        model = Sequential()\n",
    "        model.add(Flatten(input_shape=(5,5,self.n_state,)))\n",
    "        model.add(Dense(30,activation ='relu'))\n",
    "        model.add(Dense(4))\n",
    "        model.compile(sgd(lr=lr, decay=1e-4, momentum=0.0), \"mse\")\n",
    "        self.model = model\n",
    "        "
   ]
  },
  {
   "cell_type": "code",
   "execution_count": 51,
   "metadata": {},
   "outputs": [
    {
     "name": "stdout",
     "output_type": "stream",
     "text": [
      "Epoch 000/012 | Loss 0.0275 | Win/lose count 4.0/6.0 (-2.0)\n",
      "Epoch 001/012 | Loss 0.0086 | Win/lose count 2.0/4.0 (-2.0)\n",
      "Epoch 002/012 | Loss 0.0190 | Win/lose count 4.5/4.0 (0.5)\n",
      "Epoch 003/012 | Loss 0.0130 | Win/lose count 2.0/4.0 (-2.0)\n",
      "Epoch 004/012 | Loss 0.0041 | Win/lose count 2.5/1.0 (1.5)\n",
      "Epoch 005/012 | Loss 0.0060 | Win/lose count 6.0/7.0 (-1.0)\n",
      "Epoch 006/012 | Loss 0.0232 | Win/lose count 8.0/4.0 (4.0)\n",
      "Epoch 007/012 | Loss 0.0439 | Win/lose count 4.0/4.0 (0.0)\n",
      "Epoch 008/012 | Loss 0.0039 | Win/lose count 1.5/2.0 (-0.5)\n",
      "Epoch 009/012 | Loss 0.0060 | Win/lose count 1.5/1.0 (0.5)\n",
      "Epoch 010/012 | Loss 0.0506 | Win/lose count 6.5/2.0 (4.5)\n",
      "Epoch 011/012 | Loss 0.0093 | Win/lose count 3.0/2.0 (1.0)\n"
     ]
    },
    {
     "data": {
      "text/html": [
       "<video alt=\"test\" controls>\n",
       "                <source src=\"data:video/mp4;base64,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\" type=\"video/mp4\" />\n",
       "             </video>"
      ],
      "text/plain": [
       "<IPython.core.display.HTML object>"
      ]
     },
     "execution_count": 51,
     "metadata": {},
     "output_type": "execute_result"
    }
   ],
   "source": [
    "env = Environment(grid_size=size, max_time=T, temperature=0.3)\n",
    "agent = DQN_FC(size, lr=.1, epsilon = 0.1, memory_size=2000, batch_size = 32)\n",
    "train(agent, env, epochs_train, prefix='fc_train')\n",
    "HTML(display_videos('fc_train10.mp4'))"
   ]
  },
  {
   "cell_type": "markdown",
   "metadata": {},
   "source": [
    "***\n",
    "***\n",
    "__Question 8__ Implement the DQN training algorithm using a CNN (for example, 2 convolutional layers and one final fully connected layer)."
   ]
  },
  {
   "cell_type": "code",
   "execution_count": 37,
   "metadata": {},
   "outputs": [],
   "source": [
    "class DQN_CNN(DQN):\n",
    "    def __init__(self, *args,lr=0.1,**kwargs):\n",
    "        super(DQN_CNN, self).__init__(*args,**kwargs)\n",
    "        \n",
    "        model = Sequential()\n",
    "        model.add(Conv2D(filters=32, kernel_size=2, activation=\"relu\", padding=\"valid\", input_shape=(5, 5, self.n_state)))\n",
    "        model.add(Conv2D(filters=16, kernel_size=2, activation=\"relu\"))\n",
    "        model.add(Flatten())\n",
    "        model.add(Dense(4, activation=None))\n",
    "        \n",
    "        model.compile(sgd(lr=lr, decay=1e-4, momentum=0.0), \"mse\")\n",
    "        self.model = model"
   ]
  },
  {
   "cell_type": "code",
   "execution_count": 38,
   "metadata": {},
   "outputs": [
    {
     "name": "stdout",
     "output_type": "stream",
     "text": [
      "Epoch 000/012 | Loss 0.0031 | Win/lose count 2.5/2.0 (0.5)\n",
      "Epoch 001/012 | Loss 0.0010 | Win/lose count 4.0/3.0 (1.0)\n",
      "Epoch 002/012 | Loss 0.0098 | Win/lose count 2.5/1.0 (1.5)\n",
      "Epoch 003/012 | Loss 0.0037 | Win/lose count 3.5/1.0 (2.5)\n",
      "Epoch 004/012 | Loss 0.0043 | Win/lose count 4.5/3.0 (1.5)\n",
      "Epoch 005/012 | Loss 0.0039 | Win/lose count 3.0/2.0 (1.0)\n",
      "Epoch 006/012 | Loss 0.0015 | Win/lose count 10.0/7.0 (3.0)\n",
      "Epoch 007/012 | Loss 0.0028 | Win/lose count 10.5/1.0 (9.5)\n",
      "Epoch 008/012 | Loss 0.0018 | Win/lose count 4.0/2.0 (2.0)\n",
      "Epoch 009/012 | Loss 0.0881 | Win/lose count 6.5/6.0 (0.5)\n",
      "Epoch 010/012 | Loss 0.0036 | Win/lose count 4.0/3.0 (1.0)\n",
      "Epoch 011/012 | Loss 0.0054 | Win/lose count 4.5/0 (4.5)\n"
     ]
    },
    {
     "data": {
      "text/html": [
       "<video alt=\"test\" controls>\n",
       "                <source src=\"data:video/mp4;base64,AAAAIGZ0eXBpc29tAAACAGlzb21pc28yYXZjMW1wNDEAAAAIZnJlZQAAFqNtZGF0AAACnwYF//+b3EXpvebZSLeWLNgg2SPu73gyNjQgLSBjb3JlIDE1OSAtIEguMjY0L01QRUctNCBBVkMgY29kZWMgLSBDb3B5bGVmdCAyMDAzLTIwMTkgLSBodHRwOi8vd3d3LnZpZGVvbGFuLm9yZy94MjY0Lmh0bWwgLSBvcHRpb25zOiBjYWJhYz0xIHJlZj0zIGRlYmxvY2s9MTowOjAgYW5hbHlzZT0weDM6MHgxMTMgbWU9aGV4IHN1Ym1lPTcgcHN5PTEgcHN5X3JkPTEuMDA6MC4wMCBtaXhlZF9yZWY9MSBtZV9yYW5nZT0xNiBjaHJvbWFfbWU9MSB0cmVsbGlzPTEgOHg4ZGN0PTEgY3FtPTAgZGVhZHpvbmU9MjEsMTEgZmFzdF9wc2tpcD0xIGNocm9tYV9xcF9vZmZzZXQ9NCB0aHJlYWRzPTYgbG9va2FoZWFkX3RocmVhZHM9MSBzbGljZWRfdGhyZWFkcz0wIG5yPTAgZGVjaW1hdGU9MSBpbnRlcmxhY2VkPTAgYmx1cmF5X2NvbXBhdD0wIGNvbnN0cmFpbmVkX2ludHJhPTAgYmZyYW1lcz0zIGJfcHlyYW1pZD0yIGJfYWRhcHQ9MSBiX2JpYXM9MCBkaXJlY3Q9MSB3ZWlnaHRiPTEgb3Blbl9nb3A9MCB3ZWlnaHRwPTIga2V5aW50PTI1MCBrZXlpbnRfbWluPTI1IHNjZW5lY3V0PTQwIGludHJhX3JlZnJlc2g9MCByY19sb29rYWhlYWQ9NDAgcmM9Y3JmIG1idHJlZT0xIGNyZj0yMy4wIHFjb21wPTAuNjAgcXBtaW49MCBxcG1heD02OSBxcHN0ZXA9NCBpcF9yYXRpbz0xLjQwIGFxPTE6MS4wMACAAAACiGWIhAA3//72h/gU2VgTun/9P+C6zp85f52wATTYAUhuYKf8NTRfApLb/8CmWx5OunzD8fxPwpmoklK7gzaSyKxSbBiHfoG/95sGqepSDgCFEnB/P//v93v1IX3rhDm7rz/A4IAsvIjghXYskimtAwfDMThbRzarRqZNgOm5k8d/4Wl9939kf10CYZGpIp7cFiDTiYygu/rbTGa6eA4TKOU3Xbfden5ngMrtVPU6LBWqfjEseHQd62aOSPqdBicNLkSSNMVkcoXso3R4MTixTwMa2msqDGaGqGR52M5ICOMh4rAFgnD8ZXSHlzGeY4WLDZbaTexID6wQXfIJrLZ7wtuq8yQBtNB8drjyS1WBjJLX2aVtTvB4jHKaTf7N9KuCpy2QX1uycY5Uzg3IQ8iMnwOJBznOp4A8AVtD/1pCXQ1viVD0Q+Yacylkt1hMj6w6T0voym/K7pOsgV+YxGt2onS50qCjZAXSgIBrvNLUJImsv2B5HrFucRaX5EiaIDGpvKOK/D/RAn2PIgrpb8aRhNjkGsMcxSpRRJf9nQTaZlcxWKXgGf65ZK0zgDPjKK8/sZ8nlZ34Imk5gEVVcW4mXqixRqjSXNy8E1D7fof7fQUm7s8U8efNDnIsWR3fECzJ9Qr1u5NQHIcFgG207d9oCmvgNArILvz+5yK+gY6EQ60Ic+IqllvohcwFnD/qzad2GmMgH825rjX5iwc2ZGPwudnV4ALEoA8GRn5N1+UdQrdJpNUOrjYENJFf429vMGdm0eE46TqkE1QfDqcpm3Oxry6gxEfImop+a+WBhXUKfrBsCxP1MrOz8wdshuEgDIETDkUgTpuP14ojGc46ZRkkIVRIAAArWfhhQQAAAFpBmiJsQ7/+qZYAC3D/6//xCR4qau80OwSq/XER4f//+IFyzV0y2CC34Vxf//xCBlTq7kjcEkrqEBmt78jAmgCuj8afdF686jFDwSs8gULlJCwQm/YxDofydQgAAAAQAZ5BeQr/ABJfSXK/WKUggQAAABVBmkQ8IZMphDv//qmWABGfjz+SY8AAAAAQAZ5jakK/ABxTUOf5lvBBwQAAABtBmmhJ4Q8mUwId//6plgASAo6IFmgO76Meud8AAAAQQZ6GRRE8L/8AFZoEFKGQmQAAAA4BnqV0Qr8AEt3HeecXhwAAABABnqdqQr8AHQZg8mB693KAAAAAG0GarEmoQWiZTAh3//6plgASH5HUQ/X9doyOkAAAABBBnspFESwv/wAVllgnxx7BAAAAEAGe6XRCvwAc/hgMkt/ruUAAAAAPAZ7rakK/ABLXmiakp5mAAAAAEkGa8EmoQWyZTAhv//6nhAABJwAAAAxBnw5FFSwv/wAAsoEAAAAQAZ8tdEK/ABIlSO/AB9wNwQAAAA8Bny9qQr8AEteaILUeXw4AAAASQZs0SahBbJlMCGf//p4QAAR8AAAADEGfUkUVLC//AACygQAAABABn3F0Qr8AEiVI78AH3A3AAAAADwGfc2pCvwAS15ogtR5fDgAAABpBm3VJqEFsmUwIb//+p4QAIqgCzbbPs+bSQQAAABlBm5ZJ4QpSZTAhv/6nhAA19In+q3zH4j0gAAAAF0GbuUnhDomUwIb//qeEADY++z6k8GtTAAAAEUGf10URPCv/AC10o3mm96k7AAAADgGf+GpCvwAtbYx6IrmOAAAAGUGb+kmoQWiZTAhv//6nhAA1+Blt8x+I9IEAAAAXQZodSeEKUmUwIb/+p4QANj77PqTwa1IAAAAQQZ47RTRMK/8ALXm4uvxXLQAAAA4BnlxqQr8ALW2MeiK5jwAAABlBml5JqEFomUwIb//+p4QANfgZbfMfiPSAAAAAF0GaYUnhClJlMCG//qeEADY++z6k8GtSAAAAEEGen0U0TCv/AC15uLr8Vy0AAAAOAZ6gakK/AC1tjHoiuY4AAAAZQZqiSahBaJlMCG///qeEADX4GW3zH4j0gQAAABdBmsVJ4QpSZTAhv/6nhAA2Pvs+pPBrUgAAABBBnuNFNEwr/wAtebi6/FctAAAADgGfBGpCvwAtbYx6IrmPAAAAGUGbBkmoQWiZTAhv//6nhAA1+Blt8x+I9IEAAAAXQZspSeEKUmUwIb/+p4QANj77PqTwa1MAAAAQQZ9HRTRMK/8ALXm4uvxXLAAAAA4Bn2hqQr8ALW2MeiK5jgAAABlBm2pJqEFomUwIb//+p4QANfgZbfMfiPSBAAAAF0GbjUnhClJlMCG//qeEADY++z6k8GtSAAAAEEGfq0U0TCv/AC15uLr8VywAAAAOAZ/MakK/AC1tjHoiuY8AAAAZQZvOSahBaJlMCG///qeEADX4GW3zH4j0gQAAABdBm/FJ4QpSZTAhv/6nhAA2Pvs+pPBrUwAAABBBng9FNEwr/wAtebi6/FcsAAAADgGeMGpCvwAtbYx6IrmOAAAAGUGaMkmoQWiZTAhv//6nhAA1+Blt8x+I9IEAAAAXQZpVSeEKUmUwIb/+p4QANj77PqTwa1IAAAAQQZ5zRTRMK/8ALXm4uvxXLAAAAA4BnpRqQr8ALW2MeiK5jwAAABlBmpZJqEFomUwIb//+p4QANfgZbfMfiPSAAAAAF0GauUnhClJlMCG//qeEADY++z6k8GtTAAAAEEGe10U0TCv/AC15uLr8Vy0AAAAOAZ74akK/AC1tjHoiuY4AAAAZQZr6SahBaJlMCG///qeEADX4GW3zH4j0gQAAABdBmx1J4QpSZTAhv/6nhAA2Pvs+pPBrUgAAABBBnztFNEwr/wAtebi6/FctAAAADgGfXGpCvwAtbYx6IrmPAAAAGUGbXkmoQWiZTAhv//6nhAA1+Blt8x+I9IAAAAAfQZtgSeEKUmUwURLDf/6nhABUAqVmMEI7aRekT/Z/+AAAABABn59qQr8AQ15omRNKzfdBAAAAGUGbgknhDomUwUTDf/6nhAA0/wGAf39OjcAAAAAQAZ+hakK/AECWLditH274wQAAABlBm6NJ4Q8mUwId//6plgAqWllZnkJSGk4sAAAAHUGbx0nhDyZTAh3//qmWAEB+jmr0jNAk64HD/O13AAAAEEGf5UURPC//AE1nrVD2gjEAAAAQAZ4EdEK/AGmsq7kNlSkP4QAAABABngZqQr8AZfUTyI6/gSrBAAAAE0GaC0moQWiZTAh3//6plgAAlYAAAAAMQZ4pRREsL/8AALKAAAAAEAGeSHRCvwBpnk3mCWNor8kAAAAQAZ5KakK/AGX1E8iOv4EqwAAAABJBmk9JqEFsmUwIb//+p4QAAScAAAAMQZ5tRRUsL/8AALKBAAAAEAGejHRCvwBpnk3mCWNor8kAAAAQAZ6OakK/AGX1E8iOv4EqwQAAABpBmpJJqEFsmUwIb//+p4QAfL32fUcaEhw1IAAAABFBnrBFFSwr/wBpmbmuPe9RCwAAAA4BntFqQr8AaYkM9EVvFwAAABpBmtNJqEFsmUwId//+qZYAKXzzIbYg3dRSQAAAABZBmvdJ4QpSZTAhv/6nhAAh30c/E6mAAAAADkGfFUU0TC//ABR2VDZhAAAADwGfNHRCvwAqv/yWoD8ufwAAAA8BnzZqQr8AKr/8lKA/Ln8AAAAaQZs4SahBaJlMCHf//qmWABsoLK4zS/tgPyEAAAASQZtcSeEKUmUwId/+qZYAAJWAAAAADEGfekU0TC//AACygQAAAA8Bn5l0Qr8ALXaO6O2+Ff8AAAAQAZ+bakK/ACvWUd7PH284gQAAABNBm4BJqEFomUwId//+qZYAAJWBAAAADEGfvkURLC//AACygAAAAA8Bn910Qr8ALXaO6O2+Ff8AAAAQAZ/fakK/ACvWUd7PH284gQAAABNBm8RJqEFsmUwId//+qZYAAJWAAAAADEGf4kUVLC//AACygQAAAA8BngF0Qr8ALXaO6O2+Ff8AAAAPAZ4DakK/AC1qNEFqPLu9AAAAE0GaCEmoQWyZTAh3//6plgAAlYEAAAAMQZ4mRRUsL/8AALKBAAAAEAGeRXRCvwAr1lHfgA+3nEEAAAAPAZ5HakK/AC1qNEFqPLu9AAAAE0GaTEmoQWyZTAh3//6plgAAlYAAAAAMQZ5qRRUsL/8AALKBAAAAEAGeiXRCvwAr1lHfgA+3nEAAAAAPAZ6LakK/AC1qNEFqPLu9AAAAE0GakEmoQWyZTAh3//6plgAAlYEAAAAMQZ6uRRUsL/8AALKBAAAAEAGezXRCvwAr1lHfgA+3nEEAAAAPAZ7PakK/AC1qNEFqPLu9AAAAE0Ga1EmoQWyZTAh3//6plgAAlYAAAAAMQZ7yRRUsL/8AALKBAAAAEAGfEXRCvwAr1lHfgA+3nEAAAAAPAZ8TakK/AC1qNEFqPLu9AAAAGkGbF0moQWyZTAh3//6plgAqXyDNAHpL7A0xAAAAEkGfNUUVLCv/AEN2eBCRj9wdgAAAAA4Bn1ZqQr8AQ3Z66fqY7QAAABxBm1tJqEFsmUwId//+qZYAK776vf5uvNMVy3yTAAAAEEGfeUUVLC//ADOB9YVeEW4AAAAOAZ+YdEK/AEV3HeecWx8AAAAQAZ+aakK/AENlkMPoCQcemAAAABxBm59JqEFsmUwId//+qZYAG+9pf1/VahZClz8PAAAAEEGfvUUVLC//ACC0BmusW8EAAAAQAZ/cdEK/AC1prRklv9cxwAAAAA8Bn95qQr8ALFG13fd77WAAAAATQZvDSahBbJlMCHf//qmWAACVgQAAAAxBn+FFFSwv/wAAsoAAAAAQAZ4AdEK/ACxdAOf1oHJtYQAAABABngJqQr8ALFG13WQw5NrAAAAAE0GaB0moQWyZTAh3//6plgAAlYEAAAAMQZ4lRRUsL/8AALKBAAAAEAGeRHRCvwAsXQDn9aBybWEAAAAQAZ5GakK/ACxRtd1kMOTawQAAABNBmktJqEFsmUwId//+qZYAAJWAAAAADEGeaUUVLC//AACygAAAABABnoh0Qr8ALF0A5/Wgcm1hAAAAEAGeimpCvwAsUbXdZDDk2sAAAAATQZqPSahBbJlMCHf//qmWAACVgAAAAAxBnq1FFSwv/wAAsoEAAAAQAZ7MdEK/ACxdAOf1oHJtYQAAABABns5qQr8ALFG13WQw5NrBAAAAE0Ga00moQWyZTAh3//6plgAAlYAAAAAUQZ7xRRUsL/8AILHzpnFdPeH5uVgAAAAQAZ8QdEK/AC15aoHTtQ3lgQAAABABnxJqQr8ALW1851oYXnLAAAAAE0GbF0moQWyZTAh3//6plgAAlYAAAAAMQZ81RRUsL/8AALKBAAAAEAGfVHRCvwAsXQDn9aBybWAAAAAQAZ9WakK/ACxRtd1kMOTawQAAABxBm1tJqEFsmUwId//+qZYAGogs5QZoFPox+mTvAAAAEEGfeUUVLC//AB8U6jewS3QAAAAPAZ+YdEK/ACxdAOhOS+1hAAAAEAGfmmpCvwArNkQm4z69PXgAAAAdQZudSahBbJlMFEw7//6plgAqWlmLTNAd30Y9cP8AAAAPAZ+8akK/AEN2eW4bNqcjAAAAG0GboUnhClJlMCHf/qmWACqc8yIxhUC0U5mPTAAAABBBn99FNEwv/wAySrxvYJF4AAAADgGf/nRCvwBFdx3nnFsfAAAAEAGf4GpCvwBDZZDD6AkHHpgAAAATQZvlSahBaJlMCHf//qmWAACVgQAAABNBngNFESwv/wAgvoIJub9chojEAAAAEAGeInRCvwAtaa0ZJb/XMcEAAAAQAZ4kakK/AC12EeTA9e5jgQAAABtBmilJqEFsmUwIb//+p4QAN37KwY/9XVvcvDkAAAAQQZ5HRRUsL/8AILQGa6xbwQAAABABnmZ0Qr8ALWmtGSW/1zHAAAAADwGeaGpCvwAsUbXd93vtYAAAABpBmmxJqEFsmUwIb//+p4QANfSJ/qt8x+I9IQAAAA9BnopFFSwr/wAsTbgSmcAAAAAPAZ6rakK/AC1qNE1JTjaAAAAAGkGar0moQWyZTAhv//6nhABT/RP9VvmPxFBBAAAAD0GezUUVLCv/AENlcCUAQQAAAA8Bnu5qQr8ARV5ompKb6YEAAAAaQZrwSahBbJlMCHf//qmWAEARYboxCOfYBeAAAAAWQZsUSeEKUmUwId/+qZYAZb4Ufc844AAAAA5BnzJFNEwv/wB2v292YQAAABABn1F0Qr8Ao/QDn9aByQLAAAAADwGfU2pCvwBsAWNErnl1dwAAABNBm1hJqEFomUwId//+qZYAAJWBAAAAFEGfdkURLC//AEyhg9ZQPfRZSgeIAAAAEAGflXRCvwBpgAAyS3+t4sEAAAAQAZ+XakK/AGmdU8mB69vFgQAAABNBm5xJqEFsmUwId//+qZYAAJWAAAAADEGfukUVLC//AACygQAAABABn9l0Qr8AaHOTvwAfbszAAAAADwGf22pCvwBsAWNErnl1dwAAABJBm8BJqEFsmUwIb//+p4QAAScAAAAMQZ/+RRUsL/8AALKAAAAAEAGeHXRCvwCj9AOf1oHJAsAAAAAPAZ4fakK/AGwBY0SueXV3AAAAEkGaBEmoQWyZTAhv//6nhAABJwAAABRBniJFFSwv/wBMoYPWUD30WUoHiQAAABABnkF0Qr8AaYAAMkt/reLAAAAAEAGeQ2pCvwBpnVPJgevbxYEAAAASQZpISahBbJlMCF///oywAASNAAAAEEGeZkUVLC//AE19BBU2Qv8AAAAQAZ6FdEK/AGmAADJLf63iwQAAABABnodqQr8AaZ1TyYHr28WAAAAAGkGaiUuoQhBbJEYIKAfyAf2HgCFf/jhAABFwAAAMFW1vb3YAAABsbXZoZAAAAAAAAAAAAAAAAAAAA+gAAB+QAAEAAAEAAAAAAAAAAAAAAAABAAAAAAAAAAAAAAAAAAAAAQAAAAAAAAAAAAAAAAAAQAAAAAAAAAAAAAAAAAAAAAAAAAAAAAAAAAAAAAAAAAIAAAs/dHJhawAAAFx0a2hkAAAAAwAAAAAAAAAAAAAAAQAAAAAAAB+QAAAAAAAAAAAAAAAAAAAAAAABAAAAAAAAAAAAAAAAAAAAAQAAAAAAAAAAAAAAAAAAQAAAAAEQAAABEAAAAAAAJGVkdHMAAAAcZWxzdAAAAAAAAAABAAAfkAAABAAAAQAAAAAKt21kaWEAAAAgbWRoZAAAAAAAAAAAAAAAAAAAMgAAAZQAVcQAAAAAAC1oZGxyAAAAAAAAAAB2aWRlAAAAAAAAAAAAAAAAVmlkZW9IYW5kbGVyAAAACmJtaW5mAAAAFHZtaGQAAAABAAAAAAAAAAAAAAAkZGluZgAAABxkcmVmAAAAAAAAAAEAAAAMdXJsIAAAAAEAAAoic3RibAAAAJpzdHNkAAAAAAAAAAEAAACKYXZjMQAAAAAAAAABAAAAAAAAAAAAAAAAAAAAAAEQARAASAAAAEgAAAAAAAAAAQAAAAAAAAAAAAAAAAAAAAAAAAAAAAAAAAAAAAAAAAAAABj//wAAADRhdmNDAfQADf/hABdn9AANkZsoIhHQgAAAAwCAAAAZB4oUywEABmjr48RIRP/4+AAAAAAYc3R0cwAAAAAAAAABAAAAygAAAgAAAAAUc3RzcwAAAAAAAAABAAAAAQAABehjdHRzAAAAAAAAALsAAAABAAAEAAAAAAEAAAYAAAAAAQAAAgAAAAABAAAGAAAAAAEAAAIAAAAAAQAACgAAAAABAAAEAAAAAAEAAAAAAAAAAQAAAgAAAAABAAAKAAAAAAEAAAQAAAAAAQAAAAAAAAABAAACAAAAAAEAAAoAAAAAAQAABAAAAAABAAAAAAAAAAEAAAIAAAAAAQAACgAAAAABAAAEAAAAAAEAAAAAAAAAAQAAAgAAAAACAAAEAAAAAAEAAAgAAAAAAgAAAgAAAAABAAAEAAAAAAEAAAgAAAAAAgAAAgAAAAABAAAEAAAAAAEAAAgAAAAAAgAAAgAAAAABAAAEAAAAAAEAAAgAAAAAAgAAAgAAAAABAAAEAAAAAAEAAAgAAAAAAgAAAgAAAAABAAAEAAAAAAEAAAgAAAAAAgAAAgAAAAABAAAEAAAAAAEAAAgAAAAAAgAAAgAAAAABAAAEAAAAAAEAAAgAAAAAAgAAAgAAAAABAAAEAAAAAAEAAAgAAAAAAgAAAgAAAAABAAAEAAAAAAEAAAgAAAAAAgAAAgAAAAABAAAEAAAAAAEAAAYAAAAAAQAAAgAAAAABAAAGAAAAAAEAAAIAAAAAAQAABAAAAAABAAAKAAAAAAEAAAQAAAAAAQAAAAAAAAABAAACAAAAAAEAAAoAAAAAAQAABAAAAAABAAAAAAAAAAEAAAIAAAAAAQAACgAAAAABAAAEAAAAAAEAAAAAAAAAAQAAAgAAAAABAAAIAAAAAAIAAAIAAAAAAQAABAAAAAABAAAKAAAAAAEAAAQAAAAAAQAAAAAAAAABAAACAAAAAAEAAAQAAAAAAQAACgAAAAABAAAEAAAAAAEAAAAAAAAAAQAAAgAAAAABAAAKAAAAAAEAAAQAAAAAAQAAAAAAAAABAAACAAAAAAEAAAoAAAAAAQAABAAAAAABAAAAAAAAAAEAAAIAAAAAAQAACgAAAAABAAAEAAAAAAEAAAAAAAAAAQAAAgAAAAABAAAKAAAAAAEAAAQAAAAAAQAAAAAAAAABAAACAAAAAAEAAAoAAAAAAQAABAAAAAABAAAAAAAAAAEAAAIAAAAAAQAACgAAAAABAAAEAAAAAAEAAAAAAAAAAQAAAgAAAAABAAAIAAAAAAIAAAIAAAAAAQAACgAAAAABAAAEAAAAAAEAAAAAAAAAAQAAAgAAAAABAAAKAAAAAAEAAAQAAAAAAQAAAAAAAAABAAACAAAAAAEAAAoAAAAAAQAABAAAAAABAAAAAAAAAAEAAAIAAAAAAQAACgAAAAABAAAEAAAAAAEAAAAAAAAAAQAAAgAAAAABAAAKAAAAAAEAAAQAAAAAAQAAAAAAAAABAAACAAAAAAEAAAoAAAAAAQAABAAAAAABAAAAAAAAAAEAAAIAAAAAAQAACgAAAAABAAAEAAAAAAEAAAAAAAAAAQAAAgAAAAABAAAKAAAAAAEAAAQAAAAAAQAAAAAAAAABAAACAAAAAAEAAAoAAAAAAQAABAAAAAABAAAAAAAAAAEAAAIAAAAAAQAABgAAAAABAAACAAAAAAEAAAoAAAAAAQAABAAAAAABAAAAAAAAAAEAAAIAAAAAAQAACgAAAAABAAAEAAAAAAEAAAAAAAAAAQAAAgAAAAABAAAKAAAAAAEAAAQAAAAAAQAAAAAAAAABAAACAAAAAAEAAAgAAAAAAgAAAgAAAAABAAAIAAAAAAIAAAIAAAAAAQAABAAAAAABAAAKAAAAAAEAAAQAAAAAAQAAAAAAAAABAAACAAAAAAEAAAoAAAAAAQAABAAAAAABAAAAAAAAAAEAAAIAAAAAAQAACgAAAAABAAAEAAAAAAEAAAAAAAAAAQAAAgAAAAABAAAKAAAAAAEAAAQAAAAAAQAAAAAAAAABAAACAAAAAAEAAAoAAAAAAQAABAAAAAABAAAAAAAAAAEAAAIAAAAAAQAACgAAAAABAAAEAAAAAAEAAAAAAAAAAQAAAgAAAAABAAAEAAAAABxzdHNjAAAAAAAAAAEAAAABAAAAygAAAAEAAAM8c3RzegAAAAAAAAAAAAAAygAABS8AAABeAAAAFAAAABkAAAAUAAAAHwAAABQAAAASAAAAFAAAAB8AAAAUAAAAFAAAABMAAAAWAAAAEAAAABQAAAATAAAAFgAAABAAAAAUAAAAEwAAAB4AAAAdAAAAGwAAABUAAAASAAAAHQAAABsAAAAUAAAAEgAAAB0AAAAbAAAAFAAAABIAAAAdAAAAGwAAABQAAAASAAAAHQAAABsAAAAUAAAAEgAAAB0AAAAbAAAAFAAAABIAAAAdAAAAGwAAABQAAAASAAAAHQAAABsAAAAUAAAAEgAAAB0AAAAbAAAAFAAAABIAAAAdAAAAGwAAABQAAAASAAAAHQAAACMAAAAUAAAAHQAAABQAAAAdAAAAIQAAABQAAAAUAAAAFAAAABcAAAAQAAAAFAAAABQAAAAWAAAAEAAAABQAAAAUAAAAHgAAABUAAAASAAAAHgAAABoAAAASAAAAEwAAABMAAAAeAAAAFgAAABAAAAATAAAAFAAAABcAAAAQAAAAEwAAABQAAAAXAAAAEAAAABMAAAATAAAAFwAAABAAAAAUAAAAEwAAABcAAAAQAAAAFAAAABMAAAAXAAAAEAAAABQAAAATAAAAFwAAABAAAAAUAAAAEwAAAB4AAAAWAAAAEgAAACAAAAAUAAAAEgAAABQAAAAgAAAAFAAAABQAAAATAAAAFwAAABAAAAAUAAAAFAAAABcAAAAQAAAAFAAAABQAAAAXAAAAEAAAABQAAAAUAAAAFwAAABAAAAAUAAAAFAAAABcAAAAYAAAAFAAAABQAAAAXAAAAEAAAABQAAAAUAAAAIAAAABQAAAATAAAAFAAAACEAAAATAAAAHwAAABQAAAASAAAAFAAAABcAAAAXAAAAFAAAABQAAAAfAAAAFAAAABQAAAATAAAAHgAAABMAAAATAAAAHgAAABMAAAATAAAAHgAAABoAAAASAAAAFAAAABMAAAAXAAAAGAAAABQAAAAUAAAAFwAAABAAAAAUAAAAEwAAABYAAAAQAAAAFAAAABMAAAAWAAAAGAAAABQAAAAUAAAAFgAAABQAAAAUAAAAFAAAAB4AAAAUc3RjbwAAAAAAAAABAAAAMAAAAGJ1ZHRhAAAAWm1ldGEAAAAAAAAAIWhkbHIAAAAAAAAAAG1kaXJhcHBsAAAAAAAAAAAAAAAALWlsc3QAAAAlqXRvbwAAAB1kYXRhAAAAAQAAAABMYXZmNTguMzkuMTAx\" type=\"video/mp4\" />\n",
       "             </video>"
      ],
      "text/plain": [
       "<IPython.core.display.HTML object>"
      ]
     },
     "execution_count": 38,
     "metadata": {},
     "output_type": "execute_result"
    }
   ],
   "source": [
    "env = Environment(grid_size=size, max_time=T, temperature=0.3)\n",
    "agent = DQN_CNN(size, lr=.1, epsilon = 0.1, memory_size=2000, batch_size = 32)\n",
    "train(agent,env,epochs_train,prefix='cnn_train')\n",
    "HTML(display_videos('cnn_train10.mp4'))"
   ]
  },
  {
   "cell_type": "markdown",
   "metadata": {},
   "source": [
    "***\n",
    "***\n",
    "__Question 9__ Test both algorithms and compare their performances. Which issue(s) do you observe? Observe also different behaviors by changing the temperature."
   ]
  },
  {
   "cell_type": "code",
   "execution_count": 47,
   "metadata": {},
   "outputs": [
    {
     "name": "stdout",
     "output_type": "stream",
     "text": [
      "Test of the CNN\n",
      "Win/lose count 11.0/2.0. Average score (9.0)\n",
      "Win/lose count 15.5/3.0. Average score (10.75)\n",
      "Win/lose count 14.0/1.0. Average score (11.5)\n",
      "Win/lose count 8.0/2.0. Average score (10.125)\n",
      "Win/lose count 2.0/4.0. Average score (7.7)\n",
      "Win/lose count 4.5/4.0. Average score (6.5)\n",
      "Win/lose count 17.0/3.0. Average score (7.571428571428571)\n",
      "Win/lose count 5.0/0. Average score (7.25)\n",
      "Win/lose count 16.5/7.0. Average score (7.5)\n",
      "Win/lose count 16.0/6.0. Average score (7.75)\n",
      "Win/lose count 14.5/5.0. Average score (7.909090909090909)\n",
      "Win/lose count 7.5/1.0. Average score (7.791666666666667)\n",
      "Final score: 7.791666666666667\n",
      "Test of the FC\n",
      "Win/lose count 4.0/0. Average score (4.0)\n",
      "Win/lose count 4.0/2.0. Average score (3.0)\n",
      "Win/lose count 7.5/6.0. Average score (2.5)\n",
      "Win/lose count 7.5/1.0. Average score (3.5)\n",
      "Win/lose count 5.5/3.0. Average score (3.3)\n",
      "Win/lose count 5.5/4.0. Average score (3.0)\n",
      "Win/lose count 4.0/3.0. Average score (2.7142857142857144)\n",
      "Win/lose count 11.0/4.0. Average score (3.25)\n",
      "Win/lose count 12.5/6.0. Average score (3.611111111111111)\n",
      "Win/lose count 5.5/4.0. Average score (3.4)\n",
      "Win/lose count 7.5/9.0. Average score (2.9545454545454546)\n",
      "Win/lose count 10.0/2.0. Average score (3.375)\n",
      "Final score: 3.375\n"
     ]
    }
   ],
   "source": [
    "env = Environment(grid_size=size, max_time=T,temperature=0.8)\n",
    "agent_cnn = DQN_CNN(size, lr=.1, epsilon = 0.1, memory_size=2000, batch_size = 32)\n",
    "agent_cnn.load(name_weights='cnn_trainmodel.h5',name_model='cnn_trainmodel.json')\n",
    "\n",
    "agent_fc = DQN_FC(size, lr=.1, epsilon = 0.1, memory_size=2000, batch_size = 32)\n",
    "agent_cnn.load(name_weights='fc_trainmodel.h5',name_model='fc_trainmodel.json')\n",
    "print('Test of the CNN')\n",
    "test(agent_cnn,env,epochs_test,prefix='cnn_test')\n",
    "print('Test of the FC')\n",
    "test(agent_fc,env,epochs_test,prefix='fc_test')"
   ]
  },
  {
   "cell_type": "code",
   "execution_count": 48,
   "metadata": {},
   "outputs": [
    {
     "data": {
      "text/html": [
       "<video alt=\"test\" controls>\n",
       "                <source src=\"data:video/mp4;base64,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\" type=\"video/mp4\" />\n",
       "             </video>"
      ],
      "text/plain": [
       "<IPython.core.display.HTML object>"
      ]
     },
     "execution_count": 48,
     "metadata": {},
     "output_type": "execute_result"
    }
   ],
   "source": [
    "HTML(display_videos('cnn_test10.mp4'))"
   ]
  },
  {
   "cell_type": "code",
   "execution_count": 49,
   "metadata": {},
   "outputs": [
    {
     "data": {
      "text/html": [
       "<video alt=\"test\" controls>\n",
       "                <source src=\"data:video/mp4;base64,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\" type=\"video/mp4\" />\n",
       "             </video>"
      ],
      "text/plain": [
       "<IPython.core.display.HTML object>"
      ]
     },
     "execution_count": 49,
     "metadata": {},
     "output_type": "execute_result"
    }
   ],
   "source": [
    "HTML(display_videos('fc_test10.mp4'))"
   ]
  },
  {
   "cell_type": "markdown",
   "metadata": {},
   "source": [
    "The main issue we face is that our algorithms do not explore enough the grid, they often get stucked in a specific area, hence they miss most of the rewards.<br>\n",
    "In terms of performance, the CNN is better than the FC.<br>\n",
    "When we increase the temperature, the score gets better (for t=0.8, score(CCN)=10.2 and score(FC)=6), which makes sense because there are much more cells with a positive reward in that case (probability increased in the binomial law)."
   ]
  },
  {
   "cell_type": "markdown",
   "metadata": {},
   "source": [
    "***\n",
    "\n",
    "The algorithm tends to not explore the map which can be an issue. We propose two ideas in order to encourage exploration:\n",
    "1. Incorporating a decreasing $\\epsilon$-greedy exploration. You can use the method ```set_epsilon```\n",
    "2. Append via the environment a new state that describes if a cell has been visited or not\n",
    "\n",
    "***\n",
    "__Question 10__ Design a new ```train_explore``` function and environment class ```EnvironmentExploring``` to tackle the issue of exploration.\n",
    "\n"
   ]
  },
  {
   "cell_type": "code",
   "execution_count": 78,
   "metadata": {},
   "outputs": [],
   "source": [
    "def train_explore(agent,env,epoch,prefix='',epsilon_decay=0.3):\n",
    "    # Number of won games\n",
    "    score = 0\n",
    "    loss = 0\n",
    "\n",
    "    for e in range(epoch):\n",
    "        # At each epoch, we restart to a fresh game and get the initial state\n",
    "        state = env.reset()\n",
    "        # This assumes that the games will terminate\n",
    "        game_over = False\n",
    "\n",
    "        win = 0\n",
    "        lose = 0\n",
    "\n",
    "        while not game_over:\n",
    "            # The agent performs an action\n",
    "            action = agent.act(state)\n",
    "\n",
    "            # Apply an action to the environment, get the next state, the reward\n",
    "            # and if the games end\n",
    "            prev_state = state\n",
    "            state, reward, game_over = env.act(action,train=True)\n",
    "\n",
    "            # Update the counters\n",
    "            if reward > 0:\n",
    "                win = win + reward\n",
    "            if reward < 0:\n",
    "                lose = lose -reward\n",
    "\n",
    "            # Apply the reinforcement strategy\n",
    "            loss = agent.reinforce(prev_state, state,  action, reward, game_over)\n",
    "            \n",
    "        #decrease epsilon\n",
    "        agent.set_epsilon(agent.epsilon * epsilon_decay)\n",
    "\n",
    "        # Save as a mp4\n",
    "        if e % 10 == 0:\n",
    "            env.draw(prefix+str(e))\n",
    "\n",
    "        # Update stats\n",
    "        score += win-lose\n",
    "\n",
    "        print(\"Epoch {:03d}/{:03d} | Loss {:.4f} | Win/lose count {}/{} ({})\"\n",
    "              .format(e, epoch, loss, win, lose, win-lose))\n",
    "        agent.save(name_weights=prefix+'model.h5',name_model=prefix+'model.json')\n",
    "        \n",
    "class EnvironmentExploring(object):\n",
    "    def __init__(self, grid_size=10, max_time=500, temperature=0.1):\n",
    "        grid_size = grid_size+4\n",
    "        self.grid_size = grid_size\n",
    "        self.max_time = max_time\n",
    "        self.temperature = temperature\n",
    "\n",
    "        #board on which one plays\n",
    "        self.board = np.zeros((grid_size,grid_size))\n",
    "        self.position = np.zeros((grid_size,grid_size))\n",
    "        self.malus_position = np.zeros((grid_size,grid_size))\n",
    "\n",
    "        # coordinate of the rat\n",
    "        self.x = 0\n",
    "        self.y = 1\n",
    "\n",
    "        # self time\n",
    "        self.t = 0\n",
    "\n",
    "        self.scale=16\n",
    "\n",
    "        self.to_draw = np.zeros((max_time+2, grid_size*self.scale, grid_size*self.scale, 3))\n",
    "\n",
    "\n",
    "    def draw(self,e):\n",
    "        skvideo.io.vwrite(str(e) + '.mp4', self.to_draw)\n",
    "\n",
    "    def get_frame(self,t):\n",
    "        b = np.zeros((self.grid_size,self.grid_size,3))+128\n",
    "        b[self.board>0,0] = 256\n",
    "        b[self.board < 0, 2] = 256\n",
    "        b[self.x,self.y,:]=256\n",
    "        b[-2:,:,:]=0\n",
    "        b[:,-2:,:]=0\n",
    "        b[:2,:,:]=0\n",
    "        b[:,:2,:]=0\n",
    "        \n",
    "        b =  cv2.resize(b, None, fx=self.scale, fy=self.scale, interpolation=cv2.INTER_NEAREST)\n",
    "\n",
    "        self.to_draw[t,:,:,:]=b\n",
    "\n",
    "\n",
    "    def act(self, action,train=False):\n",
    "        \"\"\"This function returns the new state, reward and decides if the\n",
    "        game ends.\"\"\"\n",
    "\n",
    "        self.get_frame(int(self.t))\n",
    "\n",
    "        self.position = np.zeros((self.grid_size, self.grid_size))\n",
    "\n",
    "        self.position[0:2,:]= -1\n",
    "        self.position[:,0:2] = -1\n",
    "        self.position[-2:, :] = -1\n",
    "        self.position[-2:, :] = -1\n",
    "\n",
    "        self.position[self.x, self.y] = 1\n",
    "        if action == 0:\n",
    "            if self.x == self.grid_size-3:\n",
    "                self.x = self.x-1\n",
    "            else:\n",
    "                self.x = self.x + 1\n",
    "        elif action == 1:\n",
    "            if self.x == 2:\n",
    "                self.x = self.x+1\n",
    "            else:\n",
    "                self.x = self.x-1\n",
    "        elif action == 2:\n",
    "            if self.y == self.grid_size - 3:\n",
    "                self.y = self.y - 1\n",
    "            else:\n",
    "                self.y = self.y + 1\n",
    "        elif action == 3:\n",
    "            if self.y == 2:\n",
    "                self.y = self.y + 1\n",
    "            else:\n",
    "                self.y = self.y - 1\n",
    "        else:\n",
    "            RuntimeError('Error: action not recognized')\n",
    "\n",
    "        self.t = self.t + 1\n",
    "        reward = 0\n",
    "        if train:\n",
    "            reward = -self.malus_position[self.x, self.y]\n",
    "        self.malus_position[self.x, self.y] = 0.1\n",
    "        reward += self.board[self.x, self.y]\n",
    "        self.board[self.x, self.y] = 0\n",
    "        game_over = self.t > self.max_time\n",
    "        state = np.concatenate((self.malus_position.reshape(self.grid_size, self.grid_size,1),\n",
    "                                self.board.reshape(self.grid_size, self.grid_size,1),\n",
    "                                self.position.reshape(self.grid_size, self.grid_size,1)),axis=2)\n",
    "        state = state[self.x-2:self.x+3,self.y-2:self.y+3,:]\n",
    "\n",
    "        return state, reward, game_over\n",
    "\n",
    "    def reset(self):\n",
    "        \"\"\"This function resets the game and returns the initial state\"\"\"\n",
    "\n",
    "        self.x = np.random.randint(3, self.grid_size-3, size=1)[0]\n",
    "        self.y = np.random.randint(3, self.grid_size-3, size=1)[0]\n",
    "\n",
    "\n",
    "        bonus = 0.5*np.random.binomial(1,self.temperature,size=self.grid_size**2)\n",
    "        bonus = bonus.reshape(self.grid_size,self.grid_size)\n",
    "\n",
    "        malus = -1.0*np.random.binomial(1,self.temperature,size=self.grid_size**2)\n",
    "        malus = malus.reshape(self.grid_size, self.grid_size)\n",
    "\n",
    "        self.to_draw = np.zeros((self.max_time+2, self.grid_size*self.scale, self.grid_size*self.scale, 3))\n",
    "\n",
    "\n",
    "        malus[bonus>0]=0\n",
    "\n",
    "        self.board = bonus + malus\n",
    "\n",
    "        self.position = np.zeros((self.grid_size, self.grid_size))\n",
    "        self.position[0:2,:]= -1\n",
    "        self.position[:,0:2] = -1\n",
    "        self.position[-2:, :] = -1\n",
    "        self.position[-2:, :] = -1\n",
    "        self.board[self.x,self.y] = 0\n",
    "        self.t = 0\n",
    "        self.malus_position = np.zeros((self.grid_size, self.grid_size))\n",
    "        state = np.concatenate((self.malus_position.reshape(self.grid_size, self.grid_size,1),\n",
    "                                self.board.reshape(self.grid_size, self.grid_size,1),\n",
    "                                self.position.reshape(self.grid_size, self.grid_size,1)),axis=2)\n",
    "        state = state[self.x-2:self.x+3,self.y-2:self.y+3,:]\n",
    "        return state"
   ]
  },
  {
   "cell_type": "code",
   "execution_count": 79,
   "metadata": {},
   "outputs": [
    {
     "name": "stdout",
     "output_type": "stream",
     "text": [
      "Epoch 000/035 | Loss 0.0206 | Win/lose count 8.0/28.300000000000065 (-20.300000000000065)\n",
      "Epoch 001/035 | Loss 0.0214 | Win/lose count 6.0/24.400000000000063 (-18.400000000000063)\n",
      "Epoch 002/035 | Loss 0.0074 | Win/lose count 10.5/22.200000000000006 (-11.700000000000006)\n",
      "Epoch 003/035 | Loss 0.0111 | Win/lose count 4.5/19.600000000000016 (-15.100000000000016)\n",
      "Epoch 004/035 | Loss 0.0082 | Win/lose count 16.0/25.80000000000006 (-9.800000000000061)\n",
      "Epoch 005/035 | Loss 0.0074 | Win/lose count 4.0/22.400000000000055 (-18.400000000000055)\n",
      "Epoch 006/035 | Loss 0.0183 | Win/lose count 10.5/19.50000000000002 (-9.000000000000021)\n",
      "Epoch 007/035 | Loss 0.0050 | Win/lose count 16.5/19.900000000000023 (-3.4000000000000234)\n",
      "Epoch 008/035 | Loss 0.0075 | Win/lose count 7.5/25.400000000000066 (-17.900000000000066)\n",
      "Epoch 009/035 | Loss 0.0385 | Win/lose count 10.0/22.09999999999999 (-12.09999999999999)\n",
      "Epoch 010/035 | Loss 0.0075 | Win/lose count 14.5/15.999999999999968 (-1.499999999999968)\n",
      "Epoch 011/035 | Loss 0.0490 | Win/lose count 14.0/14.399999999999965 (-0.39999999999996483)\n",
      "Epoch 012/035 | Loss 0.0445 | Win/lose count 12.5/18.29999999999999 (-5.79999999999999)\n",
      "Epoch 013/035 | Loss 0.0205 | Win/lose count 23.0/16.79999999999997 (6.200000000000031)\n",
      "Epoch 014/035 | Loss 0.0114 | Win/lose count 15.5/16.49999999999997 (-0.9999999999999716)\n",
      "Epoch 015/035 | Loss 0.0082 | Win/lose count 25.0/15.399999999999972 (9.600000000000028)\n",
      "Epoch 016/035 | Loss 0.0102 | Win/lose count 15.5/15.299999999999963 (0.2000000000000366)\n",
      "Epoch 017/035 | Loss 0.0141 | Win/lose count 18.5/18.0 (0.5)\n",
      "Epoch 018/035 | Loss 0.0115 | Win/lose count 10.5/16.19999999999996 (-5.69999999999996)\n",
      "Epoch 019/035 | Loss 0.0170 | Win/lose count 16.0/15.699999999999964 (0.30000000000003624)\n",
      "Epoch 020/035 | Loss 0.0131 | Win/lose count 21.5/12.099999999999973 (9.400000000000027)\n",
      "Epoch 021/035 | Loss 0.0502 | Win/lose count 14.5/15.999999999999964 (-1.4999999999999645)\n",
      "Epoch 022/035 | Loss 0.0121 | Win/lose count 18.0/14.299999999999969 (3.7000000000000313)\n",
      "Epoch 023/035 | Loss 0.0072 | Win/lose count 10.0/16.599999999999966 (-6.599999999999966)\n",
      "Epoch 024/035 | Loss 0.0135 | Win/lose count 20.0/14.499999999999975 (5.500000000000025)\n",
      "Epoch 025/035 | Loss 0.0105 | Win/lose count 24.5/12.99999999999998 (11.50000000000002)\n",
      "Epoch 026/035 | Loss 0.0037 | Win/lose count 23.0/12.199999999999978 (10.800000000000022)\n",
      "Epoch 027/035 | Loss 0.0096 | Win/lose count 18.5/16.29999999999997 (2.2000000000000313)\n",
      "Epoch 028/035 | Loss 0.0086 | Win/lose count 14.5/15.099999999999966 (-0.5999999999999659)\n",
      "Epoch 029/035 | Loss 0.0399 | Win/lose count 15.5/14.299999999999969 (1.2000000000000313)\n",
      "Epoch 030/035 | Loss 0.0074 | Win/lose count 18.0/14.699999999999969 (3.300000000000031)\n",
      "Epoch 031/035 | Loss 0.0065 | Win/lose count 19.0/12.299999999999976 (6.700000000000024)\n",
      "Epoch 032/035 | Loss 0.0067 | Win/lose count 13.5/16.19999999999997 (-2.699999999999971)\n",
      "Epoch 033/035 | Loss 0.0125 | Win/lose count 22.5/10.599999999999984 (11.900000000000016)\n",
      "Epoch 034/035 | Loss 0.0164 | Win/lose count 17.0/13.499999999999972 (3.5000000000000284)\n"
     ]
    },
    {
     "data": {
      "text/html": [
       "<video alt=\"test\" controls>\n",
       "                <source src=\"data:video/mp4;base64,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\" type=\"video/mp4\" />\n",
       "             </video>"
      ],
      "text/plain": [
       "<IPython.core.display.HTML object>"
      ]
     },
     "execution_count": 79,
     "metadata": {},
     "output_type": "execute_result"
    }
   ],
   "source": [
    "# Training\n",
    "epochs_train=35\n",
    "env = EnvironmentExploring(grid_size=size, max_time=T, temperature=0.3)\n",
    "agent = DQN_CNN(size, lr=.1, epsilon = 0.6, memory_size=2000, batch_size = 32,n_state=3)\n",
    "train_explore(agent, env, epochs_train, prefix='cnn_train_explore',epsilon_decay=0.90)\n",
    "HTML(display_videos('cnn_train_explore10.mp4'))"
   ]
  },
  {
   "cell_type": "code",
   "execution_count": 80,
   "metadata": {},
   "outputs": [
    {
     "name": "stdout",
     "output_type": "stream",
     "text": [
      "Win/lose count 6.0/0. Average score (6.0)\n",
      "Win/lose count 11.5/0. Average score (8.75)\n",
      "Win/lose count 13.5/1.0. Average score (10.0)\n",
      "Win/lose count 18.5/1.0. Average score (11.875)\n",
      "Win/lose count 20.0/3.0. Average score (12.9)\n",
      "Win/lose count 15.5/2.0. Average score (13.0)\n",
      "Win/lose count 4.0/0. Average score (11.714285714285714)\n",
      "Win/lose count 15.0/1.0. Average score (12.0)\n",
      "Win/lose count 22.0/0. Average score (13.11111111111111)\n",
      "Win/lose count 20.0/2.0. Average score (13.6)\n",
      "Final score: 13.6\n"
     ]
    },
    {
     "data": {
      "text/html": [
       "<video alt=\"test\" controls>\n",
       "                <source src=\"data:video/mp4;base64,AAAAIGZ0eXBpc29tAAACAGlzb21pc28yYXZjMW1wNDEAAAAIZnJlZQAAGCNtZGF0AAACnwYF//+b3EXpvebZSLeWLNgg2SPu73gyNjQgLSBjb3JlIDE1OSAtIEguMjY0L01QRUctNCBBVkMgY29kZWMgLSBDb3B5bGVmdCAyMDAzLTIwMTkgLSBodHRwOi8vd3d3LnZpZGVvbGFuLm9yZy94MjY0Lmh0bWwgLSBvcHRpb25zOiBjYWJhYz0xIHJlZj0zIGRlYmxvY2s9MTowOjAgYW5hbHlzZT0weDM6MHgxMTMgbWU9aGV4IHN1Ym1lPTcgcHN5PTEgcHN5X3JkPTEuMDA6MC4wMCBtaXhlZF9yZWY9MSBtZV9yYW5nZT0xNiBjaHJvbWFfbWU9MSB0cmVsbGlzPTEgOHg4ZGN0PTEgY3FtPTAgZGVhZHpvbmU9MjEsMTEgZmFzdF9wc2tpcD0xIGNocm9tYV9xcF9vZmZzZXQ9NCB0aHJlYWRzPTYgbG9va2FoZWFkX3RocmVhZHM9MSBzbGljZWRfdGhyZWFkcz0wIG5yPTAgZGVjaW1hdGU9MSBpbnRlcmxhY2VkPTAgYmx1cmF5X2NvbXBhdD0wIGNvbnN0cmFpbmVkX2ludHJhPTAgYmZyYW1lcz0zIGJfcHlyYW1pZD0yIGJfYWRhcHQ9MSBiX2JpYXM9MCBkaXJlY3Q9MSB3ZWlnaHRiPTEgb3Blbl9nb3A9MCB3ZWlnaHRwPTIga2V5aW50PTI1MCBrZXlpbnRfbWluPTI1IHNjZW5lY3V0PTQwIGludHJhX3JlZnJlc2g9MCByY19sb29rYWhlYWQ9NDAgcmM9Y3JmIG1idHJlZT0xIGNyZj0yMy4wIHFjb21wPTAuNjAgcXBtaW49MCBxcG1heD02OSBxcHN0ZXA9NCBpcF9yYXRpbz0xLjQwIGFxPTE6MS4wMACAAAAC6WWIhAAz//72hvgU2FMjr//8v9JhupQr+LAABhSAFi7pjuGrjmq/4R/+54GnQopPgUuAWvmWUWzc3OUsNEqvnZlYg6Kr/sD/ISG1oFnVVVOZCvjKEKeOnizjpJGnTx9iy1rIarAZmNUoLH0x2RJ13HHPNepbG9fgxqol9JMRQzBik4r4oeJkCz33vD+wEL9UWLnvuUsgV7tbsAGayKLBUe/fyrGNpngP4h5mzyF1Cje6VO7mB55LGGLIuox1Im4Gk3lRsz1UASYIsvFavCJZmeI1OfcSsbI5vRHcdgw9HxezMMsPMEfzqo64gWeW8BmaleNghcsRf9YZs+vS3gPvxLlkVAp6V7c33jvgZ4yf3oBP0/UPC73olrDpy8wn0FkH+XzWg7LMxvPyZSftzpRa3qIKdUHyKLfiZnKDiUQTWi0jj9Kzo6/pBcZ88p+Rawbj0Gz0srdrnjaChPhiEOYhSbuZAEvaKEKUp9J/Jc1tuDb4wDODfO+SgCJApZHJnXJzh59Z967VLXxWArTo93nGBBPva0yOlIeMpfCamOt3jngEXOP5LUAqQOFe83+zJ3U6WU4AcGb6ROuOM8sUKbaYh5YOxDw/ai2UoQSFsVkPGqESyXE9bURK+EWuyGLX0Vi44W64X76WYYjJIjTE5FjGIVX1rMSmsEwQgVp7esCyDojz5iiBrz5D35K8j75Y0FlrWPsgYpagCiDWhKx79/ZhiTJJBlNGc57ksnxVMX/PyTm9MYb2mIemnoAEOyIVaowAz6c6LxBrnBjkt0cGWtHE6MHaqYnaX2r9R7bE33qswmTGoPf/KuaJduMJjv2Ti0RbexK0yhqJOJbcVDbgF8gPgyI2+xYGZChknqLrqLDTqIZUzxfhWqyPjlRXz2PJm3GOh/IA4Ew6dG9y5UaG5ZkUhgytnjfTYzsA3SYaKU+RPztUvrJgHY9b+1/a5j5p509CTyZjTanJfyPUsU9v9Q+BVQ5qpXxVz1d/xJ0AAAAUQZohbEN//qeEAdvvs+klrdBSu4AAAAAbQZpDPCGTKYQ3//6nhAEN+On2q8tnwo1uiV2zAAAADwGeYmpCvwDcktKkUCVR3QAAAB1BmmVJ4Q8mUwU8M//+nhACocyuOpzG53XEfv7+4QAAABABnoRqQr8AisnznWhheLzBAAAAGEGahknhDyZTAhv//qeEAGx4TMrkFvTUTwAAABhBmqdJ4Q8mUwIb//6nhABFum3FMihPgS8AAAAVQZrLSeEPJlMCGf/+nhAArXum+wyaAAAADkGe6UURPC//ABplW3lQAAAADwGfCHRCvwAlu47o7b4WNwAAAA8BnwpqQr8AJFQ8OY602QQAAAAZQZsMSahBaJlMCGf//p4QALHzKvLdDMt8EAAAABhBmy1J4QpSZTAhv/6nhAAsfMrimRQnwT0AAAAYQZtOSeEOiZTAhv/+p4QAHG4TFHwYQbIFAAAAHUGbcknhDyZTAhn//p4QAKNXuuI5/SOvv2jLauvhAAAAEUGfkEURPC//ABklXjecmFpgAAAADwGfr3RCvwAWuMIDJLm/gAAAABABn7FqQr8AIq80TImlZzTBAAAAGUGbs0moQWiZTAhv//6nhAAqPMrimRQnwVMAAAAYQZvUSeEKUmUwIb/+p4QAGx4TMrkFvTbOAAAAGEGb90nhDomUwIb//qeEABFum1xZn/27nQAAAA9BnhVFETwr/wAOKCuG98AAAAANAZ42akK/AA4tfjCnvwAAABpBmjhJqEFomUwIb//+p4QAEO+On1HGhIdiwQAAABhBmllJ4QpSZTAhv/6nhAALVitIIRP8t9MAAAAaQZp9SeEOiZTAhv/+p4QAC2cyuN/QIFvH7sEAAAAQQZ6bRRE8L/8ABsFXd/nLMAAAAA4Bnrp0Qr8ACW7jvPOMRwAAABABnrxqQr8ACSyfOdaGF/tBAAAAGkGavkmoQWiZTAhv//6nhAAHG9g/wnBboYRAAAAAFkGawknhClJlMCG//qeEAAS76Ofi94AAAAAOQZ7gRTRML/8AAtbKsSEAAAAPAZ8fdEK/AAPM2Boec8zpAAAAEAGfAWpCvwADrKG9itH3bYEAAAAaQZsDSahBaJlMCG///qeEAASb46fUcaEiG0AAAAAVQZsnSeEKUmUwIb/+p4QAAxPCZmm/AAAAEkGfRUU0TC//AAHbP0DI6hH0pQAAAA8Bn2R0Qr8AAo+WDBsxxlEAAAAPAZ9makK/AAKO1lM2zI9/AAAAGkGbaEmoQWiZTAh3//6plgABioLK4zS/tkbAAAAAGkGbjEnhClJlMCG//qeEAAM3faR6HsJs182AAAAAEEGfqkU0TC//AAHmT1kFEjEAAAAPAZ/JdEK/AAKPaO8848OAAAAAEAGfy2pCvwACoWEeS5nzI4AAAAAeQZvOSahBaJlMFPDf/qeEAAUbFapj/Vb5j3Xx126BAAAADwGf7WpCvwAEF2eW4bNriwAAAB9Bm/JJ4QpSZTAhn/6eEAAe/1yN2OGD3UBTPnLPqpOBAAAAEEGeEEU0TC//AATWf7qLBzAAAAAPAZ4vdEK/AAaaSzcGyXo5AAAADwGeMWpCvwAGmsWBdf424QAAABlBmjNJqEFomUwIb//+p4QADI0if6lT8mxQAAAAF0GaVUnhClJlMFESwz/+nhAAL/6+/orKAAAADwGedGpCvwAKHZRus9WgaQAAABtBmnZJ4Q6JlMCG//6nhAATVAFm22gMBzfu98AAAAAYQZqXSeEPJlMCG//+p4QAHaOM/1KQCtHBAAAAHkGau0nhDyZTAhn//p4QAR7pt0q+5rjp5n75dd2fTwAAABFBntlFETwv/wAsVAJVpb6u6AAAAA8Bnvh0Qr8AJr6TuDZLx/cAAAAQAZ76akK/ADtmodCbG+zAYAAAABpBmvxJqEFomUwIb//+p4QAMO6tIIRP8tv7gQAAABtBmx9J4QpSZTAhn/6eEADE+vv02vc0RH1Rc4EAAAARQZ89RTRMK/8AKPSjeab3qV8AAAAPAZ9eakK/ACjtt0o0h4rhAAAAGUGbQEmoQWiZTAhn//6eEAB5+EulkMfmSekAAAAZQZthSeEKUmUwIb/+p4QAFI91P1HGhIdSQAAAABlBm4JJ4Q6JlMCG//6nhAANP7B/hOC3QqxBAAAAGkGbpUnhDyZTAhv//qeEAA0tqDb5j3Nl1v3AAAAAEUGfw0URPCv/AArNjv+jkiu3AAAADgGf5GpCvwAKzY9c167dAAAAGEGb6EmoQWiZTAhv//6nhAANP7B/hbpOsQAAABJBngZFESwr/wAQXp13eBTUooEAAAAOAZ4nakK/ABBZXXgNskwAAAAZQZopSahBbJlMCG///qeEAAh3TbimRQnyHgAAAB9BmkxJ4QpSZTAhv/6nhAAFs94YNz8z76xh0IoSJTWBAAAAEkGeakU0TCv/AASXNG80xVOXqQAAAA8BnotqQr8ABJZW6UaQ8zYAAAAaQZqNSahBaJlMCG///qeEAAOeDwp1nT7sXIEAAAAbQZqwSeEKUmUwIb/+p4QAA7QPCnWjgE1/o7LBAAAAD0GezkU0TCv/AAMQRoIAwQAAAA8Bnu9qQr8AAxDNzYJAJ9AAAAASQZrySahBaJlMFPDf/qeEAAEnAAAAEAGfEWpCvwADEVlDPCFhMDEAAAATQZsUSeEKUmUwUsO//qmWAACVgAAAABMBnzNqQr8AAw9cMEHZbqY8uRT0AAAAHUGbNknhDomUwUTDv/6plgAC26WcoM0CbRUFkjaBAAAAEAGfVWpCvwAEl2iE3GfXsagAAAASQZtaSeEPJlMCHf/+qZYAAJWBAAAADEGfeEURPC//AACygQAAAA8Bn5d0Qr8ABIlSOI7Ls+EAAAAPAZ+ZakK/AASJUjdZ6tFfAAAAE0GbnkmoQWiZTAh3//6plgAAlYAAAAAMQZ+8RREsL/8AALKBAAAADwGf23RCvwAEiVI4jsuz4QAAAA8Bn91qQr8ABIlSN1nq0V4AAAATQZvCSahBbJlMCHf//qmWAACVgAAAAAxBn+BFFSwv/wAAsoEAAAAPAZ4fdEK/AASJUjiOy7PhAAAADwGeAWpCvwAEiVI3WerRXwAAABxBmgZJqEFsmUwId//+qZYAAt/vq+9E1OoQbhC+AAAAEEGeJEUVLC//AANgq7v87bEAAAAPAZ5DdEK/AASW0IDJLvCBAAAADwGeRWpCvwAEllbpRpDzNwAAABlBmkpJqEFsmUwIb//+p4QABawUHdvsH7GTAAAAEEGeaEUVLC//AANgq7v87bAAAAAPAZ6HdEK/AAL88m8846OAAAAADwGeiWpCvwAEl2eW4bNrawAAABxBmo5JqEFsmUwIb//+p4QACGj5qms25rx0+2UIAAAAEEGerEUVLC//AAUegRWlHDgAAAAPAZ7LdEK/AASW0IDJLvCBAAAAEAGezWpCvwAHE5w17zStH8EAAAAaQZrQSahBbJlMFEw3//6nhAAId0245FvgQ+EAAAAQAZ7vakK/AAbomSab6SDz8AAAABhBmvFJ4QpSZTAhv/6nhAAFzxWkEIn+XGsAAAAfQZsUSeEOiZTAhv/+p4QABf/YP5tLttqAf11ihIlK4QAAABJBnzJFETwr/wAE1zRvNMVTl5UAAAAPAZ9TakK/AATWVulGkPMXAAAAGUGbVkmoQWiZTBTw3/6nhAAF9tQd2+wfsWcAAAAQAZ91akK/AATXZ5bhs2tbgAAAABxBm3hJ4QpSZTBSw7/+qZYABICjqEGaBT6Mfpy9AAAAEAGfl2pCvwAHa5w17zStG8EAAAASQZucSeEOiZTAh3/+qZYAAJWAAAAADEGfukUVPC//AACygQAAABABn9l0Qr8AC19AOf1oHMggAAAAEAGf22pCvwALXG13WQw5kEEAAAAcQZvASahBaJlMCG///qeEAAj3TbjkN8OLIdcpYQAAABBBn/5FESwv/wAFZoEVpRu4AAAADwGeHXRCvwAHbbA118ZJgAAAABABnh9qQr8AB21cGuPFW3UhAAAAJ0GaBEmoQWyZTAhv//6nhAAJd8kVzmWVz3j8ClS2fgUzsDF2863R4wAAABBBniJFFSwv/wAFroEFKG5pAAAADwGeQXRCvwAHbsVjCFX2wAAAABABnkNqQr8AB5meBdfrFMrBAAAAGUGaRUmoQWyZTAhv//6nhAAJarAswbiDe+EAAAAcQZpnSeEKUmUwUVLDf/6nhAAJN8dPuZKrSe050QAAABABnoZqQr8AB2wXnOtDDAvBAAAAGEGai0nhDomUwIb//qeEAAkqg7u32D9gVAAAABBBnqlFFTwv/wAFioEFKG64AAAADwGeyHRCvwAEttCAyS7rgQAAABABnspqQr8AB22YPJgevl2AAAAAGUGazEmoQWiZTAhv//6nhAAJaPmPIxP8uA0AAAAeQZrvSeEKUmUwIb/+p4QADnnGf6u3vDATX9Tb5xvxAAAAEkGfDUU0TCv/AAvztwuw30vVeQAAAA8Bny5qQr8AC/O3CcEDsmEAAAAYQZsySahBaJlMCG///qeEAA6PsH+Fuk6JAAAAEUGfUEURLCv/AAxDNzXHvesjAAAADgGfcWpCvwAMQSGeiLDTAAAAGkGbc0moQWyZTAh3//6plgAEx6tkNsQbutlAAAAAG0GblknhClJlMCHf/qmWAAMt7S/Z5fizNtoaaAAAABFBn7RFNEwr/wAFHpRvNCwhIQAAAA4Bn9VqQr8ABR2xjJuVwgAAABxBm9pJqEFomUwId//+qZYAAwXF6MOz2oWQpsLNAAAAEEGf+EURLC//AAOJ/D112sEAAAAQAZ4XdEK/AATV1aMkt/tbgAAAAA8BnhlqQr8ABLbWu77vvsEAAAASQZoeSahBbJlMCG///qeEAAEnAAAADEGePEUVLC//AACygQAAABABnlt0Qr8AAyTybo7b4jmBAAAADwGeXWpCvwADJAsaJXPNMwAAABpBml9JqEFsmUwId//+qZYAAu3yDNAHpL7ZcAAAABJBmmNJ4QpSZTAh3/6plgAAlYEAAAAMQZ6BRTRML/8AALKAAAAAEAGeoHRCvwAHQsVi8/gc6kEAAAAPAZ6iakK/AASqh4cx1p9cAAAAHEGap0moQWiZTAh3//6plgAEYKOoQZoFPox+nN0AAAAQQZ7FRREsL/8ABUKBFaUb+QAAAA8BnuR0Qr8AB0LFYwhV+UEAAAAQAZ7makK/AAcVnzG6HJB5uQAAABlBmutJqEFsmUwIb//+p4QACLdNuORb4ELgAAAAEEGfCUUVLC//AAVBlioQb+AAAAAQAZ8odEK/AAdBsDW0yh7swQAAAA8BnypqQr8ABLg0DyYJiYAAAAASQZsvSahBbJlMCG///qeEAAEnAAAADEGfTUUVLC//AACygQAAABABn2x0Qr8AB0LFYvP4HOpBAAAADwGfbmpCvwAEqoeHMdafXQAAAB1Bm3FJqEFsmUwUTDf//qeEAAko+ZqbNuM3up8c1AAAABABn5BqQr8AB22YPJgevl2AAAAAHEGbk0nhClJlMFLDf/6nhAAOeDw4saof746eNM0AAAAQAZ+yakK/AAvztS3DZtWQgAAAABlBm7RJ4Q6JlMCG//6nhAAWr0T/Vb5j8UnAAAAAGUGb1UnhDyZTAh3//qmWABGEWG6MQjn2GuEAAAAdQZv5SeEPJlMCHf/+qZYAEZ+jny23rQ3XGE+7UWgAAAAVQZ4XRRE8L/8AFQY25C8+ixjbXQ+1AAAAEAGeNnRCvwAcThgMkt/ru0EAAAAQAZ44akK/ABJc0bzTFW1kwAAAABxBmj1JqEFomUwId//+qZYAB1OL0YdntQshTX1VAAAAEEGeW0URLC//AAiufs3BEvAAAAAPAZ56dEK/AAvySiFMEg2BAAAADwGefGpCvwAL8S0qRQJXLwAAABJBmmFJqEFsmUwIb//+p4QAAScAAAAMQZ6fRRUsL/8AALKAAAAADwGevnRCvwAHmbA0POeYiQAAAA8BnqBqQr8AB5ecNErnmIkAAAAcQZqlSahBbJlMCGf//p4QADh+uRuxw0t9ffb94QAAABBBnsNFFSwv/wAIrn7NwRLwAAAADwGe4nRCvwAHmbA118ZEgQAAABABnuRqQr8AC/OqeTA9fDmBAAAAGkGa6UuoQhBbJEYIKAfyAf2HgCFf/jhAABFxAAAAKUGfB0UVLC//AgHc6kvbMwq5gOgatahcCUAZaJPDJk61xwP7+EsCm7zBAAAAEAGfJnRCvwAS3zVA6dqHeYAAAAAkAZ8oakK/Aq9j7UHE3arDSSblqoYHLLW7zSpHZ0IxrxwROIbwAAAL7W1vb3YAAABsbXZoZAAAAAAAAAAAAAAAAAAAA+gAAB+QAAEAAAEAAAAAAAAAAAAAAAABAAAAAAAAAAAAAAAAAAAAAQAAAAAAAAAAAAAAAAAAQAAAAAAAAAAAAAAAAAAAAAAAAAAAAAAAAAAAAAAAAAIAAAsXdHJhawAAAFx0a2hkAAAAAwAAAAAAAAAAAAAAAQAAAAAAAB+QAAAAAAAAAAAAAAAAAAAAAAABAAAAAAAAAAAAAAAAAAAAAQAAAAAAAAAAAAAAAAAAQAAAAAEQAAABEAAAAAAAJGVkdHMAAAAcZWxzdAAAAAAAAAABAAAfkAAABAAAAQAAAAAKj21kaWEAAAAgbWRoZAAAAAAAAAAAAAAAAAAAMgAAAZQAVcQAAAAAAC1oZGxyAAAAAAAAAAB2aWRlAAAAAAAAAAAAAAAAVmlkZW9IYW5kbGVyAAAACjptaW5mAAAAFHZtaGQAAAABAAAAAAAAAAAAAAAkZGluZgAAABxkcmVmAAAAAAAAAAEAAAAMdXJsIAAAAAEAAAn6c3RibAAAAJpzdHNkAAAAAAAAAAEAAACKYXZjMQAAAAAAAAABAAAAAAAAAAAAAAAAAAAAAAEQARAASAAAAEgAAAAAAAAAAQAAAAAAAAAAAAAAAAAAAAAAAAAAAAAAAAAAAAAAAAAAABj//wAAADRhdmNDAfQADf/hABdn9AANkZsoIhHQgAAAAwCAAAAZB4oUywEABmjr48RIRP/4+AAAAAAYc3R0cwAAAAAAAAABAAAAygAAAgAAAAAUc3RzcwAAAAAAAAABAAAAAQAABcBjdHRzAAAAAAAAALYAAAACAAAEAAAAAAEAAAYAAAAAAQAAAgAAAAABAAAGAAAAAAEAAAIAAAAAAgAABAAAAAABAAAKAAAAAAEAAAQAAAAAAQAAAAAAAAABAAACAAAAAAMAAAQAAAAAAQAACgAAAAABAAAEAAAAAAEAAAAAAAAAAQAAAgAAAAACAAAEAAAAAAEAAAgAAAAAAgAAAgAAAAACAAAEAAAAAAEAAAoAAAAAAQAABAAAAAABAAAAAAAAAAEAAAIAAAAAAQAABAAAAAABAAAKAAAAAAEAAAQAAAAAAQAAAAAAAAABAAACAAAAAAEAAAQAAAAAAQAACgAAAAABAAAEAAAAAAEAAAAAAAAAAQAAAgAAAAABAAAEAAAAAAEAAAoAAAAAAQAABAAAAAABAAAAAAAAAAEAAAIAAAAAAQAABgAAAAABAAACAAAAAAEAAAoAAAAAAQAABAAAAAABAAAAAAAAAAEAAAIAAAAAAQAABAAAAAABAAAGAAAAAAEAAAIAAAAAAgAABAAAAAABAAAKAAAAAAEAAAQAAAAAAQAAAAAAAAABAAACAAAAAAEAAAQAAAAAAQAACAAAAAACAAACAAAAAAMAAAQAAAAAAQAACAAAAAACAAACAAAAAAEAAAgAAAAAAgAAAgAAAAABAAAEAAAAAAEAAAgAAAAAAgAAAgAAAAABAAAEAAAAAAEAAAgAAAAAAgAAAgAAAAABAAAGAAAAAAEAAAIAAAAAAQAABgAAAAABAAACAAAAAAEAAAYAAAAAAQAAAgAAAAABAAAKAAAAAAEAAAQAAAAAAQAAAAAAAAABAAACAAAAAAEAAAoAAAAAAQAABAAAAAABAAAAAAAAAAEAAAIAAAAAAQAACgAAAAABAAAEAAAAAAEAAAAAAAAAAQAAAgAAAAABAAAKAAAAAAEAAAQAAAAAAQAAAAAAAAABAAACAAAAAAEAAAoAAAAAAQAABAAAAAABAAAAAAAAAAEAAAIAAAAAAQAACgAAAAABAAAEAAAAAAEAAAAAAAAAAQAAAgAAAAABAAAGAAAAAAEAAAIAAAAAAQAABAAAAAABAAAIAAAAAAIAAAIAAAAAAQAABgAAAAABAAACAAAAAAEAAAYAAAAAAQAAAgAAAAABAAAKAAAAAAEAAAQAAAAAAQAAAAAAAAABAAACAAAAAAEAAAoAAAAAAQAABAAAAAABAAAAAAAAAAEAAAIAAAAAAQAACgAAAAABAAAEAAAAAAEAAAAAAAAAAQAAAgAAAAABAAAEAAAAAAEAAAYAAAAAAQAAAgAAAAABAAAKAAAAAAEAAAQAAAAAAQAAAAAAAAABAAACAAAAAAEAAAQAAAAAAQAACAAAAAACAAACAAAAAAEAAAgAAAAAAgAAAgAAAAABAAAEAAAAAAEAAAgAAAAAAgAAAgAAAAABAAAKAAAAAAEAAAQAAAAAAQAAAAAAAAABAAACAAAAAAEAAAoAAAAAAQAABAAAAAABAAAAAAAAAAEAAAIAAAAAAQAABAAAAAABAAAKAAAAAAEAAAQAAAAAAQAAAAAAAAABAAACAAAAAAEAAAoAAAAAAQAABAAAAAABAAAAAAAAAAEAAAIAAAAAAQAACgAAAAABAAAEAAAAAAEAAAAAAAAAAQAAAgAAAAABAAAKAAAAAAEAAAQAAAAAAQAAAAAAAAABAAACAAAAAAEAAAYAAAAAAQAAAgAAAAABAAAGAAAAAAEAAAIAAAAAAgAABAAAAAABAAAKAAAAAAEAAAQAAAAAAQAAAAAAAAABAAACAAAAAAEAAAoAAAAAAQAABAAAAAABAAAAAAAAAAEAAAIAAAAAAQAACgAAAAABAAAEAAAAAAEAAAAAAAAAAQAAAgAAAAABAAAKAAAAAAEAAAQAAAAAAQAAAAAAAAABAAACAAAAAAEAAAoAAAAAAQAABAAAAAABAAAAAAAAAAEAAAIAAAAAHHN0c2MAAAAAAAAAAQAAAAEAAADKAAAAAQAAAzxzdHN6AAAAAAAAAAAAAADKAAAFkAAAABgAAAAfAAAAEwAAACEAAAAUAAAAHAAAABwAAAAZAAAAEgAAABMAAAATAAAAHQAAABwAAAAcAAAAIQAAABUAAAATAAAAFAAAAB0AAAAcAAAAHAAAABMAAAARAAAAHgAAABwAAAAeAAAAFAAAABIAAAAUAAAAHgAAABoAAAASAAAAEwAAABQAAAAeAAAAGQAAABYAAAATAAAAEwAAAB4AAAAeAAAAFAAAABMAAAAUAAAAIgAAABMAAAAjAAAAFAAAABMAAAATAAAAHQAAABsAAAATAAAAHwAAABwAAAAiAAAAFQAAABMAAAAUAAAAHgAAAB8AAAAVAAAAEwAAAB0AAAAdAAAAHQAAAB4AAAAVAAAAEgAAABwAAAAWAAAAEgAAAB0AAAAjAAAAFgAAABMAAAAeAAAAHwAAABMAAAATAAAAFgAAABQAAAAXAAAAFwAAACEAAAAUAAAAFgAAABAAAAATAAAAEwAAABcAAAAQAAAAEwAAABMAAAAXAAAAEAAAABMAAAATAAAAIAAAABQAAAATAAAAEwAAAB0AAAAUAAAAEwAAABMAAAAgAAAAFAAAABMAAAAUAAAAHgAAABQAAAAcAAAAIwAAABYAAAATAAAAHQAAABQAAAAgAAAAFAAAABYAAAAQAAAAFAAAABQAAAAgAAAAFAAAABMAAAAUAAAAKwAAABQAAAATAAAAFAAAAB0AAAAgAAAAFAAAABwAAAAUAAAAEwAAABQAAAAdAAAAIgAAABYAAAATAAAAHAAAABUAAAASAAAAHgAAAB8AAAAVAAAAEgAAACAAAAAUAAAAFAAAABMAAAAWAAAAEAAAABQAAAATAAAAHgAAABYAAAAQAAAAFAAAABMAAAAgAAAAFAAAABMAAAAUAAAAHQAAABQAAAAUAAAAEwAAABYAAAAQAAAAFAAAABMAAAAhAAAAFAAAACAAAAAUAAAAHQAAAB0AAAAhAAAAGQAAABQAAAAUAAAAIAAAABQAAAATAAAAEwAAABYAAAAQAAAAEwAAABMAAAAgAAAAFAAAABMAAAAUAAAAHgAAAC0AAAAUAAAAKAAAABRzdGNvAAAAAAAAAAEAAAAwAAAAYnVkdGEAAABabWV0YQAAAAAAAAAhaGRscgAAAAAAAAAAbWRpcmFwcGwAAAAAAAAAAAAAAAAtaWxzdAAAACWpdG9vAAAAHWRhdGEAAAABAAAAAExhdmY1OC4zOS4xMDE=\" type=\"video/mp4\" />\n",
       "             </video>"
      ],
      "text/plain": [
       "<IPython.core.display.HTML object>"
      ]
     },
     "execution_count": 80,
     "metadata": {},
     "output_type": "execute_result"
    }
   ],
   "source": [
    "# Evaluation\n",
    "test(agent,env,epochs_test,prefix='cnn_test_explore')\n",
    "HTML(display_videos('cnn_test_explore10.mp4'))"
   ]
  },
  {
   "cell_type": "markdown",
   "metadata": {},
   "source": [
    "***\n",
    "***\n",
    "__BONUS question__ Use the expert DQN from the previous question to generate some winning games. Train a model that mimicks its behavior. Compare the performances."
   ]
  },
  {
   "cell_type": "markdown",
   "metadata": {},
   "source": []
  },
  {
   "cell_type": "markdown",
   "metadata": {},
   "source": [
    "***"
   ]
  }
 ],
 "metadata": {
  "kernelspec": {
   "display_name": "Python 3",
   "language": "python",
   "name": "python3"
  },
  "language_info": {
   "codemirror_mode": {
    "name": "ipython",
    "version": 3
   },
   "file_extension": ".py",
   "mimetype": "text/x-python",
   "name": "python",
   "nbconvert_exporter": "python",
   "pygments_lexer": "ipython3",
   "version": "3.7.3"
  }
 },
 "nbformat": 4,
 "nbformat_minor": 2
}
